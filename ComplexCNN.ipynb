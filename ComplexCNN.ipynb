{
  "cells": [
    {
      "cell_type": "code",
      "execution_count": null,
      "metadata": {
        "id": "dol_bL2MclSC"
      },
      "outputs": [],
      "source": [
        "import numpy as np\n",
        "import pandas as pd\n",
        "import matplotlib.pyplot as plt\n",
        "import cv2\n",
        "import tensorflow as tf\n",
        "from PIL import Image\n",
        "import os\n",
        "from sklearn.model_selection import train_test_split\n",
        "from tensorflow.keras.utils import to_categorical\n",
        "from keras.models import Sequential , load_model\n",
        "from sklearn.neighbors import KNeighborsClassifier\n",
        "from sklearn.metrics import accuracy_score"
      ]
    },
    {
      "cell_type": "code",
      "execution_count": null,
      "metadata": {
        "colab": {
          "base_uri": "https://localhost:8080/"
        },
        "id": "UWsZxOpNmIaf",
        "outputId": "a0e3dcfd-6bc9-4cff-eb9c-1b502492d715"
      },
      "outputs": [
        {
          "output_type": "stream",
          "name": "stdout",
          "text": [
            "Drive already mounted at /content/gdrive; to attempt to forcibly remount, call drive.mount(\"/content/gdrive\", force_remount=True).\n"
          ]
        }
      ],
      "source": [
        "from google.colab import drive\n",
        "drive.mount('/content/gdrive')"
      ]
    },
    {
      "cell_type": "code",
      "execution_count": null,
      "metadata": {
        "colab": {
          "base_uri": "https://localhost:8080/"
        },
        "id": "-Aa2bNUrmeBU",
        "outputId": "c83e187d-eaae-440c-de73-a28a143bc0a6"
      },
      "outputs": [
        {
          "output_type": "stream",
          "name": "stdout",
          "text": [
            "/content/gdrive/MyDrive\n"
          ]
        }
      ],
      "source": [
        "cd /content/gdrive/MyDrive"
      ]
    },
    {
      "cell_type": "code",
      "execution_count": null,
      "metadata": {
        "id": "85gsDfcKhHzJ"
      },
      "outputs": [],
      "source": [
        "import os\n",
        "import shutil\n",
        "\n",
        "# Define the path to the original dataset\n",
        "data_path = '/content/gdrive/MyDrive/AICapstoneProjectData/CT-KIDNEY-DATASET-Normal-Cyst-Tumor-Stone/CT-KIDNEY-DATASET-Normal-Cyst-Tumor-Stone'\n",
        "# Define the path to the output directory\n",
        "output_path = './dataset'\n",
        "\n",
        "# Define the ratios for train/val/test splits\n",
        "train_ratio = 0.8\n",
        "test_ratio = 0.2\n",
        "\n",
        "# Create the output directories if they do not exist\n",
        "if not os.path.exists(output_path):\n",
        "    os.makedirs(output_path)\n",
        "for dir_name in ['train', 'test']:\n",
        "    dir_path = os.path.join(output_path, dir_name)\n",
        "    if not os.path.exists(dir_path):\n",
        "        os.makedirs(dir_path)\n",
        "    for class_name in ['Cyst','Normal','Stone','Tumor']:\n",
        "        class_path = os.path.join(dir_path, class_name)\n",
        "        if not os.path.exists(class_path):\n",
        "            os.makedirs(class_path)\n",
        "\n",
        "# Loop over each class and copy files to train/val/test directories\n",
        "for class_name in ['Cyst', 'Normal', 'Stone', 'Tumor']:\n",
        "    class_path = os.path.join(data_path, class_name)\n",
        "    files = os.listdir(class_path)\n",
        "    num_files = len(files)\n",
        "    num_train = int(num_files * train_ratio)\n",
        "    num_test = num_files - num_train\n",
        "    for i, file_name in enumerate(files):\n",
        "        src_path = os.path.join(class_path, file_name)\n",
        "        if i < num_train:\n",
        "            dst_path = os.path.join(output_path, 'train', class_name, file_name)\n",
        "        else:\n",
        "            dst_path = os.path.join(output_path, 'test', class_name, file_name)\n",
        "        shutil.copy(src_path, dst_path)"
      ]
    },
    {
      "cell_type": "code",
      "source": [
        "from tensorflow.keras.models import Sequential\n",
        "from tensorflow.keras.layers import Dense, Conv2D, MaxPooling2D, Flatten, Dropout\n",
        "from tensorflow.keras.preprocessing.image import ImageDataGenerator\n",
        "from tensorflow.keras.regularizers import l2\n",
        "from tensorflow.keras.callbacks import EarlyStopping\n",
        "\n",
        "# Define the data directories\n",
        "train_dir = './dataset/train'\n",
        "test_dir = './dataset/test'\n",
        "\n",
        "# Define the data generator with data augmentation\n",
        "train_datagen = ImageDataGenerator(\n",
        "    rescale=1./255,\n",
        "    rotation_range=20,\n",
        "    width_shift_range=0.2,\n",
        "    height_shift_range=0.2,\n",
        "    shear_range=0.2,\n",
        "    zoom_range=0.2,\n",
        "    horizontal_flip=True,\n",
        "    fill_mode='nearest'\n",
        ")\n",
        "\n",
        "# Load the data and preprocess it with data augmentation\n",
        "batch_size = 32\n",
        "img_height = 224\n",
        "img_width = 224\n",
        "num_classes = 4\n",
        "\n",
        "train_generator = train_datagen.flow_from_directory(\n",
        "    train_dir,\n",
        "    target_size=(img_height, img_width),\n",
        "    batch_size=batch_size,\n",
        "    class_mode='categorical'\n",
        ")\n",
        "\n",
        "# Use the same validation data without data augmentation\n",
        "test_datagen = ImageDataGenerator(rescale=1./255)\n",
        "test_generator = test_datagen.flow_from_directory(\n",
        "    test_dir,\n",
        "    target_size=(img_height, img_width),\n",
        "    batch_size=batch_size,\n",
        "    class_mode='categorical'\n",
        ")\n",
        "\n",
        "train_data = train_generator[0][0]\n",
        "train_labels = train_generator[0][1]\n",
        "test_data = test_generator[0][0]\n",
        "test_labels = test_generator[0][1]\n",
        "\n",
        "# Define the CNN model with L2 regularization\n",
        "model = Sequential()\n",
        "\n",
        "# Define the early stopping callback\n",
        "early_stopping = EarlyStopping(\n",
        "    monitor='val_loss',\n",
        "    patience=10,\n",
        "    restore_best_weights=True\n",
        ")\n",
        "\n",
        "model.add(Conv2D(32, (3, 3), padding='same', activation='relu', input_shape=(img_height, img_width, 3), kernel_regularizer=l2(0.01)))\n",
        "model.add(Conv2D(32, (3, 3), padding='same', activation='relu', kernel_regularizer=l2(0.01)))\n",
        "model.add(MaxPooling2D(pool_size=(2, 2)))\n",
        "model.add(Dropout(0.25))\n",
        "\n",
        "model.add(Conv2D(64, (3, 3), padding='same', activation='relu', kernel_regularizer=l2(0.01)))\n",
        "model.add(Conv2D(64, (3, 3), padding='same', activation='relu', kernel_regularizer=l2(0.01)))\n",
        "model.add(MaxPooling2D(pool_size=(2, 2)))\n",
        "model.add(Dropout(0.25))\n",
        "\n",
        "model.add(Flatten())\n",
        "model.add(Dense(512, activation='relu', kernel_regularizer=l2(0.01)))\n",
        "model.add(Dropout(0.5))\n",
        "model.add(Dense(num_classes, activation='softmax'))\n",
        "\n",
        "# Compile the model\n",
        "model.compile(optimizer='adam', loss='categorical_crossentropy', metrics=['accuracy'])\n",
        "\n",
        "# Train the model\n",
        "epochs = 100\n",
        "\n",
        "history = model.fit(train_data, train_labels, epochs=100, validation_data=(train_data, train_labels), callbacks=[early_stopping])"
      ],
      "metadata": {
        "colab": {
          "base_uri": "https://localhost:8080/"
        },
        "id": "GarGzf9V-xjT",
        "outputId": "a11d5471-61c6-4661-fc03-7b9e0f33769c"
      },
      "execution_count": null,
      "outputs": [
        {
          "output_type": "stream",
          "name": "stdout",
          "text": [
            "Found 9955 images belonging to 4 classes.\n",
            "Found 2492 images belonging to 4 classes.\n",
            "Epoch 1/100\n",
            "1/1 [==============================] - 4s 4s/step - loss: 13.0210 - accuracy: 0.3125 - val_loss: 12.3408 - val_accuracy: 0.4062\n",
            "Epoch 2/100\n",
            "1/1 [==============================] - 0s 287ms/step - loss: 13.7536 - accuracy: 0.5000 - val_loss: 13.2633 - val_accuracy: 0.3750\n",
            "Epoch 3/100\n",
            "1/1 [==============================] - 1s 814ms/step - loss: 15.9367 - accuracy: 0.3438 - val_loss: 10.3343 - val_accuracy: 0.4375\n",
            "Epoch 4/100\n",
            "1/1 [==============================] - 1s 873ms/step - loss: 11.5300 - accuracy: 0.4062 - val_loss: 8.9551 - val_accuracy: 0.4062\n",
            "Epoch 5/100\n",
            "1/1 [==============================] - 1s 730ms/step - loss: 9.4952 - accuracy: 0.3438 - val_loss: 8.7417 - val_accuracy: 0.6562\n",
            "Epoch 6/100\n",
            "1/1 [==============================] - 0s 220ms/step - loss: 8.6669 - accuracy: 0.5938 - val_loss: 8.7955 - val_accuracy: 0.3750\n",
            "Epoch 7/100\n",
            "1/1 [==============================] - 0s 222ms/step - loss: 8.7159 - accuracy: 0.4062 - val_loss: 8.7863 - val_accuracy: 0.3750\n",
            "Epoch 8/100\n",
            "1/1 [==============================] - 1s 718ms/step - loss: 8.7106 - accuracy: 0.3750 - val_loss: 8.6896 - val_accuracy: 0.5625\n",
            "Epoch 9/100\n",
            "1/1 [==============================] - 1s 699ms/step - loss: 8.6468 - accuracy: 0.5000 - val_loss: 8.4995 - val_accuracy: 0.7188\n",
            "Epoch 10/100\n",
            "1/1 [==============================] - 1s 809ms/step - loss: 8.4398 - accuracy: 0.7188 - val_loss: 8.1723 - val_accuracy: 0.9062\n",
            "Epoch 11/100\n",
            "1/1 [==============================] - 1s 799ms/step - loss: 8.0512 - accuracy: 0.8750 - val_loss: 7.7663 - val_accuracy: 0.9375\n",
            "Epoch 12/100\n",
            "1/1 [==============================] - 1s 741ms/step - loss: 7.7717 - accuracy: 0.8438 - val_loss: 7.3321 - val_accuracy: 0.9688\n",
            "Epoch 13/100\n",
            "1/1 [==============================] - 1s 767ms/step - loss: 7.3092 - accuracy: 0.9062 - val_loss: 6.9261 - val_accuracy: 0.9688\n",
            "Epoch 14/100\n",
            "1/1 [==============================] - 1s 691ms/step - loss: 7.0460 - accuracy: 0.9062 - val_loss: 6.5245 - val_accuracy: 0.9688\n",
            "Epoch 15/100\n",
            "1/1 [==============================] - 1s 702ms/step - loss: 6.6284 - accuracy: 0.9375 - val_loss: 6.2273 - val_accuracy: 1.0000\n",
            "Epoch 16/100\n",
            "1/1 [==============================] - 1s 665ms/step - loss: 6.2667 - accuracy: 0.9688 - val_loss: 5.8759 - val_accuracy: 1.0000\n",
            "Epoch 17/100\n",
            "1/1 [==============================] - 1s 666ms/step - loss: 5.8869 - accuracy: 1.0000 - val_loss: 5.5855 - val_accuracy: 1.0000\n",
            "Epoch 18/100\n",
            "1/1 [==============================] - 1s 708ms/step - loss: 5.6360 - accuracy: 0.9375 - val_loss: 5.3348 - val_accuracy: 1.0000\n",
            "Epoch 19/100\n",
            "1/1 [==============================] - 1s 669ms/step - loss: 5.4477 - accuracy: 0.9375 - val_loss: 5.0781 - val_accuracy: 1.0000\n",
            "Epoch 20/100\n",
            "1/1 [==============================] - 1s 703ms/step - loss: 5.0977 - accuracy: 1.0000 - val_loss: 4.8814 - val_accuracy: 0.9688\n",
            "Epoch 21/100\n",
            "1/1 [==============================] - 1s 660ms/step - loss: 4.9562 - accuracy: 0.9062 - val_loss: 4.6201 - val_accuracy: 1.0000\n",
            "Epoch 22/100\n",
            "1/1 [==============================] - 1s 654ms/step - loss: 4.6247 - accuracy: 1.0000 - val_loss: 4.4003 - val_accuracy: 1.0000\n",
            "Epoch 23/100\n",
            "1/1 [==============================] - 1s 681ms/step - loss: 4.5558 - accuracy: 0.9688 - val_loss: 4.1920 - val_accuracy: 1.0000\n",
            "Epoch 24/100\n",
            "1/1 [==============================] - 1s 662ms/step - loss: 4.2186 - accuracy: 0.9688 - val_loss: 3.9918 - val_accuracy: 1.0000\n",
            "Epoch 25/100\n",
            "1/1 [==============================] - 1s 679ms/step - loss: 4.0159 - accuracy: 1.0000 - val_loss: 3.7959 - val_accuracy: 1.0000\n",
            "Epoch 26/100\n",
            "1/1 [==============================] - 1s 653ms/step - loss: 3.8176 - accuracy: 1.0000 - val_loss: 3.6116 - val_accuracy: 1.0000\n",
            "Epoch 27/100\n",
            "1/1 [==============================] - 1s 686ms/step - loss: 3.6208 - accuracy: 1.0000 - val_loss: 3.4367 - val_accuracy: 1.0000\n",
            "Epoch 28/100\n",
            "1/1 [==============================] - 1s 647ms/step - loss: 3.4691 - accuracy: 1.0000 - val_loss: 3.2697 - val_accuracy: 1.0000\n",
            "Epoch 29/100\n",
            "1/1 [==============================] - 1s 726ms/step - loss: 3.2991 - accuracy: 1.0000 - val_loss: 3.1225 - val_accuracy: 1.0000\n",
            "Epoch 30/100\n",
            "1/1 [==============================] - 1s 789ms/step - loss: 3.2599 - accuracy: 0.9375 - val_loss: 2.9951 - val_accuracy: 1.0000\n",
            "Epoch 31/100\n",
            "1/1 [==============================] - 0s 269ms/step - loss: 3.0054 - accuracy: 1.0000 - val_loss: 2.9956 - val_accuracy: 0.9688\n",
            "Epoch 32/100\n",
            "1/1 [==============================] - 1s 783ms/step - loss: 3.0074 - accuracy: 0.9375 - val_loss: 2.7475 - val_accuracy: 1.0000\n",
            "Epoch 33/100\n",
            "1/1 [==============================] - 1s 782ms/step - loss: 2.7876 - accuracy: 1.0000 - val_loss: 2.6629 - val_accuracy: 1.0000\n",
            "Epoch 34/100\n",
            "1/1 [==============================] - 1s 690ms/step - loss: 2.7431 - accuracy: 0.9688 - val_loss: 2.6200 - val_accuracy: 0.9688\n",
            "Epoch 35/100\n",
            "1/1 [==============================] - 1s 685ms/step - loss: 2.7441 - accuracy: 0.9375 - val_loss: 2.5187 - val_accuracy: 1.0000\n",
            "Epoch 36/100\n",
            "1/1 [==============================] - 1s 663ms/step - loss: 2.6744 - accuracy: 0.9375 - val_loss: 2.4873 - val_accuracy: 1.0000\n",
            "Epoch 37/100\n",
            "1/1 [==============================] - 1s 701ms/step - loss: 2.5886 - accuracy: 0.9375 - val_loss: 2.4126 - val_accuracy: 1.0000\n",
            "Epoch 38/100\n",
            "1/1 [==============================] - 1s 685ms/step - loss: 2.4410 - accuracy: 1.0000 - val_loss: 2.3732 - val_accuracy: 1.0000\n",
            "Epoch 39/100\n",
            "1/1 [==============================] - 1s 692ms/step - loss: 2.4402 - accuracy: 1.0000 - val_loss: 2.3348 - val_accuracy: 1.0000\n",
            "Epoch 40/100\n",
            "1/1 [==============================] - 1s 653ms/step - loss: 2.4109 - accuracy: 0.9688 - val_loss: 2.2929 - val_accuracy: 1.0000\n",
            "Epoch 41/100\n",
            "1/1 [==============================] - 1s 655ms/step - loss: 2.3376 - accuracy: 0.9688 - val_loss: 2.2621 - val_accuracy: 1.0000\n",
            "Epoch 42/100\n",
            "1/1 [==============================] - 1s 667ms/step - loss: 2.3083 - accuracy: 0.9688 - val_loss: 2.2248 - val_accuracy: 1.0000\n",
            "Epoch 43/100\n",
            "1/1 [==============================] - 1s 659ms/step - loss: 2.2488 - accuracy: 1.0000 - val_loss: 2.1868 - val_accuracy: 1.0000\n",
            "Epoch 44/100\n",
            "1/1 [==============================] - 1s 647ms/step - loss: 2.2105 - accuracy: 1.0000 - val_loss: 2.1467 - val_accuracy: 1.0000\n",
            "Epoch 45/100\n",
            "1/1 [==============================] - 1s 695ms/step - loss: 2.1644 - accuracy: 1.0000 - val_loss: 2.1032 - val_accuracy: 1.0000\n",
            "Epoch 46/100\n",
            "1/1 [==============================] - 1s 655ms/step - loss: 2.1191 - accuracy: 1.0000 - val_loss: 2.0586 - val_accuracy: 1.0000\n",
            "Epoch 47/100\n",
            "1/1 [==============================] - 1s 661ms/step - loss: 2.0732 - accuracy: 1.0000 - val_loss: 2.0091 - val_accuracy: 1.0000\n",
            "Epoch 48/100\n",
            "1/1 [==============================] - 1s 665ms/step - loss: 2.0555 - accuracy: 0.9688 - val_loss: 1.9566 - val_accuracy: 1.0000\n",
            "Epoch 49/100\n",
            "1/1 [==============================] - 1s 771ms/step - loss: 1.9727 - accuracy: 1.0000 - val_loss: 1.9083 - val_accuracy: 1.0000\n",
            "Epoch 50/100\n",
            "1/1 [==============================] - 1s 731ms/step - loss: 1.9347 - accuracy: 1.0000 - val_loss: 1.8557 - val_accuracy: 1.0000\n",
            "Epoch 51/100\n",
            "1/1 [==============================] - 1s 762ms/step - loss: 1.8863 - accuracy: 0.9688 - val_loss: 1.8013 - val_accuracy: 1.0000\n",
            "Epoch 52/100\n",
            "1/1 [==============================] - 1s 780ms/step - loss: 1.8051 - accuracy: 1.0000 - val_loss: 1.7521 - val_accuracy: 1.0000\n",
            "Epoch 53/100\n",
            "1/1 [==============================] - 1s 658ms/step - loss: 1.7567 - accuracy: 1.0000 - val_loss: 1.7036 - val_accuracy: 1.0000\n",
            "Epoch 54/100\n",
            "1/1 [==============================] - 1s 645ms/step - loss: 1.7359 - accuracy: 1.0000 - val_loss: 1.6571 - val_accuracy: 1.0000\n",
            "Epoch 55/100\n",
            "1/1 [==============================] - 1s 1s/step - loss: 1.6723 - accuracy: 1.0000 - val_loss: 1.6143 - val_accuracy: 1.0000\n",
            "Epoch 56/100\n",
            "1/1 [==============================] - 1s 1s/step - loss: 1.6217 - accuracy: 1.0000 - val_loss: 1.5758 - val_accuracy: 1.0000\n",
            "Epoch 57/100\n",
            "1/1 [==============================] - 1s 1s/step - loss: 1.5931 - accuracy: 1.0000 - val_loss: 1.5406 - val_accuracy: 1.0000\n",
            "Epoch 58/100\n",
            "1/1 [==============================] - 1s 669ms/step - loss: 1.5485 - accuracy: 1.0000 - val_loss: 1.5059 - val_accuracy: 1.0000\n",
            "Epoch 59/100\n",
            "1/1 [==============================] - 1s 688ms/step - loss: 1.5753 - accuracy: 0.9688 - val_loss: 1.4764 - val_accuracy: 1.0000\n",
            "Epoch 60/100\n",
            "1/1 [==============================] - 1s 660ms/step - loss: 1.5395 - accuracy: 0.9688 - val_loss: 1.4517 - val_accuracy: 1.0000\n",
            "Epoch 61/100\n",
            "1/1 [==============================] - 1s 692ms/step - loss: 1.4853 - accuracy: 0.9688 - val_loss: 1.4385 - val_accuracy: 1.0000\n",
            "Epoch 62/100\n",
            "1/1 [==============================] - 1s 689ms/step - loss: 1.4523 - accuracy: 1.0000 - val_loss: 1.4333 - val_accuracy: 1.0000\n",
            "Epoch 63/100\n",
            "1/1 [==============================] - 1s 696ms/step - loss: 1.4415 - accuracy: 1.0000 - val_loss: 1.4230 - val_accuracy: 1.0000\n",
            "Epoch 64/100\n",
            "1/1 [==============================] - 1s 652ms/step - loss: 1.4518 - accuracy: 1.0000 - val_loss: 1.4077 - val_accuracy: 1.0000\n",
            "Epoch 65/100\n",
            "1/1 [==============================] - 1s 674ms/step - loss: 1.4107 - accuracy: 1.0000 - val_loss: 1.3930 - val_accuracy: 1.0000\n",
            "Epoch 66/100\n",
            "1/1 [==============================] - 1s 764ms/step - loss: 1.3932 - accuracy: 1.0000 - val_loss: 1.3761 - val_accuracy: 1.0000\n",
            "Epoch 67/100\n",
            "1/1 [==============================] - 1s 769ms/step - loss: 1.3873 - accuracy: 1.0000 - val_loss: 1.3553 - val_accuracy: 1.0000\n",
            "Epoch 68/100\n",
            "1/1 [==============================] - 1s 722ms/step - loss: 1.3579 - accuracy: 1.0000 - val_loss: 1.3327 - val_accuracy: 1.0000\n",
            "Epoch 69/100\n",
            "1/1 [==============================] - 1s 782ms/step - loss: 1.3447 - accuracy: 1.0000 - val_loss: 1.3079 - val_accuracy: 1.0000\n",
            "Epoch 70/100\n",
            "1/1 [==============================] - 1s 651ms/step - loss: 1.3217 - accuracy: 1.0000 - val_loss: 1.2789 - val_accuracy: 1.0000\n",
            "Epoch 71/100\n",
            "1/1 [==============================] - 1s 653ms/step - loss: 1.2879 - accuracy: 1.0000 - val_loss: 1.2501 - val_accuracy: 1.0000\n",
            "Epoch 72/100\n",
            "1/1 [==============================] - 1s 696ms/step - loss: 1.2560 - accuracy: 1.0000 - val_loss: 1.2210 - val_accuracy: 1.0000\n",
            "Epoch 73/100\n",
            "1/1 [==============================] - 1s 688ms/step - loss: 1.2405 - accuracy: 1.0000 - val_loss: 1.1931 - val_accuracy: 1.0000\n",
            "Epoch 74/100\n",
            "1/1 [==============================] - 1s 652ms/step - loss: 1.1978 - accuracy: 1.0000 - val_loss: 1.1673 - val_accuracy: 1.0000\n",
            "Epoch 75/100\n",
            "1/1 [==============================] - 1s 655ms/step - loss: 1.1805 - accuracy: 1.0000 - val_loss: 1.1418 - val_accuracy: 1.0000\n",
            "Epoch 76/100\n",
            "1/1 [==============================] - 1s 686ms/step - loss: 1.1972 - accuracy: 0.9688 - val_loss: 1.1222 - val_accuracy: 1.0000\n",
            "Epoch 77/100\n",
            "1/1 [==============================] - 1s 692ms/step - loss: 1.1534 - accuracy: 1.0000 - val_loss: 1.1106 - val_accuracy: 1.0000\n",
            "Epoch 78/100\n",
            "1/1 [==============================] - 1s 691ms/step - loss: 1.1179 - accuracy: 1.0000 - val_loss: 1.1072 - val_accuracy: 1.0000\n",
            "Epoch 79/100\n",
            "1/1 [==============================] - 1s 653ms/step - loss: 1.1288 - accuracy: 1.0000 - val_loss: 1.1052 - val_accuracy: 1.0000\n",
            "Epoch 80/100\n",
            "1/1 [==============================] - 0s 248ms/step - loss: 1.1195 - accuracy: 1.0000 - val_loss: 1.1053 - val_accuracy: 1.0000\n",
            "Epoch 81/100\n",
            "1/1 [==============================] - 0s 216ms/step - loss: 1.1352 - accuracy: 0.9688 - val_loss: 1.1100 - val_accuracy: 1.0000\n",
            "Epoch 82/100\n",
            "1/1 [==============================] - 0s 215ms/step - loss: 1.1172 - accuracy: 1.0000 - val_loss: 1.1326 - val_accuracy: 1.0000\n",
            "Epoch 83/100\n",
            "1/1 [==============================] - 0s 211ms/step - loss: 1.1892 - accuracy: 0.9688 - val_loss: 1.1194 - val_accuracy: 1.0000\n",
            "Epoch 84/100\n",
            "1/1 [==============================] - 0s 250ms/step - loss: 1.1264 - accuracy: 1.0000 - val_loss: 1.1372 - val_accuracy: 1.0000\n",
            "Epoch 85/100\n",
            "1/1 [==============================] - 0s 216ms/step - loss: 1.2886 - accuracy: 0.9375 - val_loss: 1.1477 - val_accuracy: 1.0000\n",
            "Epoch 86/100\n",
            "1/1 [==============================] - 0s 215ms/step - loss: 1.2181 - accuracy: 0.9688 - val_loss: 1.1812 - val_accuracy: 1.0000\n",
            "Epoch 87/100\n",
            "1/1 [==============================] - 0s 211ms/step - loss: 1.2063 - accuracy: 1.0000 - val_loss: 1.1955 - val_accuracy: 1.0000\n",
            "Epoch 88/100\n",
            "1/1 [==============================] - 0s 243ms/step - loss: 1.2678 - accuracy: 0.9688 - val_loss: 1.2207 - val_accuracy: 1.0000\n",
            "Epoch 89/100\n",
            "1/1 [==============================] - 1s 631ms/step - loss: 1.2256 - accuracy: 1.0000 - val_loss: 1.2574 - val_accuracy: 1.0000\n"
          ]
        }
      ]
    },
    {
      "cell_type": "code",
      "source": [
        "test_loss, test_acc = model.evaluate(test_data, test_labels)\n",
        "print('Test accuracy:', test_acc)"
      ],
      "metadata": {
        "colab": {
          "base_uri": "https://localhost:8080/"
        },
        "id": "vVl0jFZI9HTO",
        "outputId": "89475a27-c37c-4d8c-d96e-7d53ff9cd2db"
      },
      "execution_count": null,
      "outputs": [
        {
          "output_type": "stream",
          "name": "stdout",
          "text": [
            "1/1 [==============================] - 0s 81ms/step - loss: 3.5930 - accuracy: 0.4688\n",
            "Test accuracy: 0.46875\n"
          ]
        }
      ]
    },
    {
      "cell_type": "code",
      "source": [
        "train_loss , train_acc = model.evaluate(train_data, train_labels)\n",
        "print('Train accuracy:', train_acc*100)\n",
        "print('Test accuracy:', test_acc*100)"
      ],
      "metadata": {
        "colab": {
          "base_uri": "https://localhost:8080/"
        },
        "id": "cJOjsZ6n96Eu",
        "outputId": "d9fdd793-dcfb-4836-f3e8-702df6dee799"
      },
      "execution_count": null,
      "outputs": [
        {
          "output_type": "stream",
          "name": "stdout",
          "text": [
            "1/1 [==============================] - 0s 67ms/step - loss: 1.1052 - accuracy: 1.0000\n",
            "Train accuracy: 100.0\n",
            "Test accuracy: 46.875\n"
          ]
        }
      ]
    },
    {
      "cell_type": "code",
      "source": [
        "import matplotlib.pyplot as plt\n",
        "\n",
        "# Plot training & validation accuracy values\n",
        "plt.plot(history.history['accuracy'])\n",
        "plt.plot(history.history['val_accuracy'])\n",
        "plt.title('Model accuracy')\n",
        "plt.ylabel('Accuracy')\n",
        "plt.xlabel('Epoch')\n",
        "plt.legend(['Train', 'Test'], loc='upper left')\n",
        "plt.show()\n",
        "\n",
        "# Plot training & validation loss values\n",
        "plt.plot(history.history['loss'])\n",
        "plt.plot(history.history['val_loss'])\n",
        "plt.title('Model loss')\n",
        "plt.ylabel('Loss')\n",
        "plt.xlabel('Epoch')\n",
        "plt.legend(['Train', 'Test'], loc='upper left')\n",
        "plt.show()"
      ],
      "metadata": {
        "colab": {
          "base_uri": "https://localhost:8080/",
          "height": 927
        },
        "id": "O4PHxPA1XXBr",
        "outputId": "c46e5454-77d1-42c1-a2be-23b9ff6ce045"
      },
      "execution_count": null,
      "outputs": [
        {
          "output_type": "display_data",
          "data": {
            "text/plain": [
              "<Figure size 640x480 with 1 Axes>"
            ],
            "image/png": "[encoded data removed]"
          },
          "metadata": {}
        },
        {
          "output_type": "display_data",
          "data": {
            "text/plain": [
              "<Figure size 640x480 with 1 Axes>"
            ],
            "image/png": "[encoded data removed]"
          },
          "metadata": {}
        }
      ]
    }
  ],
  "metadata": {
    "colab": {
      "provenance": []
    },
    "kernelspec": {
      "display_name": "Python 3",
      "name": "python3"
    },
    "language_info": {
      "name": "python"
    },
    "accelerator": "GPU",
    "gpuClass": "standard"
  },
  "nbformat": 4,
  "nbformat_minor": 0
}
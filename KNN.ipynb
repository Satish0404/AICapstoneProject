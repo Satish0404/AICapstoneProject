{
  "cells": [
    {
      "cell_type": "code",
      "execution_count": 2,
      "metadata": {
        "id": "x_QIt7Ct34En"
      },
      "outputs": [],
      "source": [
        "import numpy as np\n",
        "import pandas as pd\n",
        "import matplotlib.pyplot as plt\n",
        "import cv2\n",
        "import tensorflow as tf\n",
        "from PIL import Image\n",
        "import os\n",
        "from sklearn.model_selection import train_test_split\n",
        "from tensorflow.keras.utils import to_categorical\n",
        "from keras.models import Sequential , load_model\n",
        "from sklearn.neighbors import KNeighborsClassifier\n",
        "from sklearn.metrics import accuracy_score"
      ]
    },
    {
      "cell_type": "code",
      "execution_count": 3,
      "metadata": {
        "colab": {
          "base_uri": "https://localhost:8080/"
        },
        "id": "7r5dBPagzr4C",
        "outputId": "fc3fd212-4331-426e-eb0f-e68c53ad3583"
      },
      "outputs": [
        {
          "output_type": "stream",
          "name": "stdout",
          "text": [
            "Drive already mounted at /content/gdrive; to attempt to forcibly remount, call drive.mount(\"/content/gdrive\", force_remount=True).\n"
          ]
        }
      ],
      "source": [
        "from google.colab import drive\n",
        "drive.mount('/content/gdrive')"
      ]
    },
    {
      "cell_type": "code",
      "execution_count": 4,
      "metadata": {
        "colab": {
          "base_uri": "https://localhost:8080/"
        },
        "id": "YR9B5jat1sBg",
        "outputId": "9fb797a4-333e-4aa0-ff8b-ef9c0afdbca5"
      },
      "outputs": [
        {
          "output_type": "stream",
          "name": "stdout",
          "text": [
            "/content/gdrive/MyDrive\n"
          ]
        }
      ],
      "source": [
        "cd /content/gdrive/MyDrive"
      ]
    },
    {
      "cell_type": "code",
      "execution_count": null,
      "metadata": {
        "colab": {
          "background_save": true
        },
        "id": "85gsDfcKhHzJ"
      },
      "outputs": [],
      "source": [
        "import os\n",
        "import shutil\n",
        "\n",
        "# Define the path to the original dataset\n",
        "data_path = '/content/gdrive/MyDrive/AICapstoneProjectData/CT-KIDNEY-DATASET-Normal-Cyst-Tumor-Stone/CT-KIDNEY-DATASET-Normal-Cyst-Tumor-Stone'\n",
        "# Define the path to the output directory\n",
        "output_path = './dataset'\n",
        "\n",
        "# Define the ratios for train/val/test splits\n",
        "train_ratio = 0.8\n",
        "test_ratio = 0.2\n",
        "\n",
        "# Create the output directories if they do not exist\n",
        "if not os.path.exists(output_path):\n",
        "    os.makedirs(output_path)\n",
        "for dir_name in ['train', 'test']:\n",
        "    dir_path = os.path.join(output_path, dir_name)\n",
        "    if not os.path.exists(dir_path):\n",
        "        os.makedirs(dir_path)\n",
        "    for class_name in ['Cyst','Normal','Stone','Tumor']:\n",
        "        class_path = os.path.join(dir_path, class_name)\n",
        "        if not os.path.exists(class_path):\n",
        "            os.makedirs(class_path)\n",
        "\n",
        "# Loop over each class and copy files to train/val/test directories\n",
        "for class_name in ['Cyst', 'Normal', 'Stone', 'Tumor']:\n",
        "    class_path = os.path.join(data_path, class_name)\n",
        "    files = os.listdir(class_path)\n",
        "    num_files = len(files)\n",
        "    num_train = int(num_files * train_ratio)\n",
        "    num_test = num_files - num_train\n",
        "    for i, file_name in enumerate(files):\n",
        "        src_path = os.path.join(class_path, file_name)\n",
        "        if i < num_train:\n",
        "            dst_path = os.path.join(output_path, 'train', class_name, file_name)\n",
        "        else:\n",
        "            dst_path = os.path.join(output_path, 'test', class_name, file_name)\n",
        "        shutil.copy(src_path, dst_path)"
      ]
    },
    {
      "cell_type": "code",
      "source": [
        "import numpy as np\n",
        "from sklearn.model_selection import cross_val_score,KFold\n",
        "from sklearn.neighbors import KNeighborsClassifier\n",
        "from tensorflow.keras.preprocessing.image import ImageDataGenerator\n",
        "from tensorflow.keras.applications.efficientnet import preprocess_input\n",
        "\n",
        "# Set up the image data generators\n",
        "train_path = './dataset/train'\n",
        "test_path = './dataset/test'\n",
        "img_size = (224,224)\n",
        "batch_size = 10\n",
        "test_batch_size = 10\n",
        "test_steps = 1\n",
        "\n",
        "train_datagen = ImageDataGenerator(\n",
        "    rescale=1./255,\n",
        "    rotation_range=20,\n",
        "    zoom_range=0.2,\n",
        "    shear_range=0.2,\n",
        "    horizontal_flip=True,\n",
        "    brightness_range=[0.8,1.2],\n",
        "    preprocessing_function=preprocess_input,\n",
        ")\n",
        "test_datagen = ImageDataGenerator(\n",
        "    preprocessing_function=preprocess_input\n",
        ")\n",
        "\n",
        "train_generator = train_datagen.flow_from_directory(\n",
        "    directory=train_path,\n",
        "    target_size=(224, 224),\n",
        "    class_mode='categorical',\n",
        "    shuffle=True,\n",
        "    batch_size=batch_size\n",
        ")\n",
        "test_generator = test_datagen.flow_from_directory(\n",
        "    directory=test_path,\n",
        "    target_size=(224, 224),\n",
        "    class_mode='categorical',\n",
        "    shuffle=False,\n",
        "    batch_size=test_batch_size\n",
        ")\n",
        "\n",
        "# Load the preprocessed image data and labels into numpy arrays\n",
        "train_data = train_generator.next()[0]\n",
        "train_labels = train_generator.next()[1]\n",
        "test_data = test_generator.next()[0]\n",
        "test_labels = test_generator.next()[1]\n",
        "\n",
        "# Load the preprocessed image data and labels into numpy arrays\n",
        "data = train_generator.next()[0]\n",
        "labels = train_generator.next()[1]\n",
        "\n",
        "# Reshape the numpy arrays to flatten the images\n",
        "data = data.reshape(data.shape[0], -1)\n",
        "\n",
        "# Instantiate the KNN classifier with the desired number of neighbors\n",
        "k = 5\n",
        "knn = KNeighborsClassifier(n_neighbors=k)\n",
        "\n",
        "knn.fit(data,np.argmax(labels,axis=1))\n",
        "\n",
        "# Use KFold cross-validation to evaluate the performance of the KNN classifier on the training data\n",
        "kf = KFold(n_splits=5, shuffle=True, random_state=42)\n",
        "scores = cross_val_score(knn, data, np.argmax(labels, axis=1), cv=kf)\n",
        "\n",
        "# Print the mean and standard deviation of the cross-validation scores as the training accuracy\n",
        "print(\"Training accuracy: {:.2f}% +/- {:.2f}%\".format(np.mean(scores)*100, np.std(scores)*100))\n",
        "\n",
        "# Load the preprocessed image data and labels into numpy arrays\n",
        "test_data = test_generator.next()[0]\n",
        "test_labels = test_generator.next()[1]\n",
        "\n",
        "# Reshape the numpy arrays to flatten the images\n",
        "test_data = test_data.reshape(test_data.shape[0], -1)\n",
        "\n",
        "# Predict the labels of the test data using the KNN classifier\n",
        "predictions = knn.predict(test_data)\n",
        "\n",
        "# Calculate the accuracy of the KNN classifier on the test data\n",
        "accuracy = np.mean(predictions == np.argmax(test_labels, axis=1))\n",
        "\n",
        "print(\"Testing accuracy: {:.2f}%\".format(accuracy*100))"
      ],
      "metadata": {
        "colab": {
          "base_uri": "https://localhost:8080/"
        },
        "id": "QKniBs0OrEBj",
        "outputId": "3355cf5a-f1c4-4ca6-d8b7-41f46a965fbd"
      },
      "execution_count": 12,
      "outputs": [
        {
          "output_type": "stream",
          "name": "stdout",
          "text": [
            "Found 9955 images belonging to 4 classes.\n",
            "Found 2492 images belonging to 4 classes.\n",
            "Training accuracy: 60.00% +/- 20.00%\n",
            "Testing accuracy: 100.00%\n"
          ]
        }
      ]
    },
    {
      "cell_type": "code",
      "source": [
        "from sklearn.metrics import accuracy_score,confusion_matrix,classification_report\n",
        "# Generate the confusion matrix\n",
        "cm = confusion_matrix(np.argmax(test_labels,axis=1),predictions)\n",
        "print(\"Confusion matrix:\")\n",
        "print(cm)\n",
        "\n"
      ],
      "metadata": {
        "colab": {
          "base_uri": "https://localhost:8080/"
        },
        "id": "IqALuUDZnEEG",
        "outputId": "75727fb1-0a1f-40fd-a271-10cd7af2eebb"
      },
      "execution_count": 13,
      "outputs": [
        {
          "output_type": "stream",
          "name": "stdout",
          "text": [
            "Confusion matrix:\n",
            "[[10]]\n"
          ]
        }
      ]
    },
    {
      "cell_type": "code",
      "source": [
        "# Generate the classification report\n",
        "cr = classification_report(np.argmax(test_labels,axis=1),predictions)\n",
        "print(\"Classification report:\")\n",
        "print(cr)"
      ],
      "metadata": {
        "colab": {
          "base_uri": "https://localhost:8080/"
        },
        "id": "qBLWdAgGtbaM",
        "outputId": "5993f579-f9d0-4e1f-c73d-0a3a8f7fb493"
      },
      "execution_count": 14,
      "outputs": [
        {
          "output_type": "stream",
          "name": "stdout",
          "text": [
            "Classification report:\n",
            "              precision    recall  f1-score   support\n",
            "\n",
            "           0       1.00      1.00      1.00        10\n",
            "\n",
            "    accuracy                           1.00        10\n",
            "   macro avg       1.00      1.00      1.00        10\n",
            "weighted avg       1.00      1.00      1.00        10\n",
            "\n"
          ]
        }
      ]
    }
  ],
  "metadata": {
    "colab": {
      "provenance": []
    },
    "kernelspec": {
      "display_name": "Python 3",
      "name": "python3"
    },
    "language_info": {
      "name": "python"
    }
  },
  "nbformat": 4,
  "nbformat_minor": 0
}
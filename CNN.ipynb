{
  "nbformat": 4,
  "nbformat_minor": 0,
  "metadata": {
    "colab": {
      "provenance": []
    },
    "kernelspec": {
      "name": "python3",
      "display_name": "Python 3"
    },
    "language_info": {
      "name": "python"
    }
  },
  "cells": [
    {
      "cell_type": "code",
      "execution_count": 27,
      "metadata": {
        "id": "94kUBBI-ovhb"
      },
      "outputs": [],
      "source": [
        "import numpy as np\n",
        "import pandas as pd\n",
        "import matplotlib.pyplot as plt\n",
        "import cv2\n",
        "import tensorflow as tf\n",
        "from PIL import Image\n",
        "import os\n",
        "from sklearn.model_selection import train_test_split\n",
        "from tensorflow.keras.utils import to_categorical\n",
        "from keras.models import Sequential , load_model\n",
        "from sklearn.neighbors import KNeighborsClassifier\n",
        "from sklearn.metrics import accuracy_score"
      ]
    },
    {
      "cell_type": "code",
      "source": [
        "from google.colab import drive\n",
        "drive.mount('/content/gdrive')"
      ],
      "metadata": {
        "colab": {
          "base_uri": "https://localhost:8080/"
        },
        "id": "j-0yzZ0yoyYw",
        "outputId": "e073d150-27f2-40bc-f0d1-e67229361a22"
      },
      "execution_count": 28,
      "outputs": [
        {
          "output_type": "stream",
          "name": "stdout",
          "text": [
            "Drive already mounted at /content/gdrive; to attempt to forcibly remount, call drive.mount(\"/content/gdrive\", force_remount=True).\n"
          ]
        }
      ]
    },
    {
      "cell_type": "code",
      "source": [
        "cd /content/gdrive/MyDrive"
      ],
      "metadata": {
        "colab": {
          "base_uri": "https://localhost:8080/"
        },
        "id": "jJU9Ct-do0Cj",
        "outputId": "84d9f229-9312-4d93-918f-cd392098e6b2"
      },
      "execution_count": 29,
      "outputs": [
        {
          "output_type": "stream",
          "name": "stdout",
          "text": [
            "/content/gdrive/MyDrive\n"
          ]
        }
      ]
    },
    {
      "cell_type": "code",
      "source": [
        "import os\n",
        "import shutil\n",
        "\n",
        "# Define the path to the original dataset\n",
        "data_path = '/content/gdrive/MyDrive/AICapstoneProjectData/CT-KIDNEY-DATASET-Normal-Cyst-Tumor-Stone/CT-KIDNEY-DATASET-Normal-Cyst-Tumor-Stone'\n",
        "# Define the path to the output directory\n",
        "output_path = './dataset'\n",
        "\n",
        "# Define the ratios for train/val/test splits\n",
        "train_ratio = 0.8\n",
        "test_ratio = 0.2\n",
        "\n",
        "# Create the output directories if they do not exist\n",
        "if not os.path.exists(output_path):\n",
        "    os.makedirs(output_path)\n",
        "for dir_name in ['train', 'test']:\n",
        "    dir_path = os.path.join(output_path, dir_name)\n",
        "    if not os.path.exists(dir_path):\n",
        "        os.makedirs(dir_path)\n",
        "    for class_name in ['Cyst','Normal','Stone','Tumor']:\n",
        "        class_path = os.path.join(dir_path, class_name)\n",
        "        if not os.path.exists(class_path):\n",
        "            os.makedirs(class_path)\n",
        "\n",
        "# Loop over each class and copy files to train/val/test directories\n",
        "for class_name in ['Cyst', 'Normal', 'Stone', 'Tumor']:\n",
        "    class_path = os.path.join(data_path, class_name)\n",
        "    files = os.listdir(class_path)\n",
        "    num_files = len(files)\n",
        "    num_train = int(num_files * train_ratio)\n",
        "    num_test = num_files - num_train\n",
        "    for i, file_name in enumerate(files):\n",
        "        src_path = os.path.join(class_path, file_name)\n",
        "        if i < num_train:\n",
        "            dst_path = os.path.join(output_path, 'train', class_name, file_name)\n",
        "        else:\n",
        "            dst_path = os.path.join(output_path, 'test', class_name, file_name)\n",
        "        shutil.copy(src_path, dst_path)"
      ],
      "metadata": {
        "id": "RVc83sBbo5OI"
      },
      "execution_count": null,
      "outputs": []
    },
    {
      "cell_type": "code",
      "source": [
        "import numpy as np\n",
        "from sklearn.linear_model import LogisticRegression\n",
        "from tensorflow.keras.preprocessing.image import ImageDataGenerator\n",
        "from tensorflow.keras.applications.efficientnet import preprocess_input\n",
        "\n",
        "# Set up the image data generators\n",
        "train_path = './dataset/train'\n",
        "test_path = './dataset/test'\n",
        "img_size = (224,224)\n",
        "batch_size = 10\n",
        "test_batch_size = 10\n",
        "test_steps = 1\n",
        "\n",
        "train_datagen = ImageDataGenerator(\n",
        "    rescale=1./255,\n",
        "    rotation_range=20,\n",
        "    zoom_range=0.2,\n",
        "    shear_range=0.2,\n",
        "    horizontal_flip=True,\n",
        "    brightness_range=[0.8,1.2],\n",
        "    preprocessing_function=preprocess_input,\n",
        ")\n",
        "test_datagen = ImageDataGenerator(\n",
        "    preprocessing_function=preprocess_input\n",
        ")\n",
        "\n",
        "train_generator = train_datagen.flow_from_directory(\n",
        "    directory=train_path,\n",
        "    target_size=(224, 224),\n",
        "    class_mode='categorical',\n",
        "    shuffle=True,\n",
        "    batch_size=batch_size\n",
        ")\n",
        "test_generator = test_datagen.flow_from_directory(\n",
        "    directory=test_path,\n",
        "    target_size=(224, 224),\n",
        "    class_mode='categorical',\n",
        "    shuffle=False,\n",
        "    batch_size=test_batch_size\n",
        ")\n"
      ],
      "metadata": {
        "colab": {
          "base_uri": "https://localhost:8080/"
        },
        "id": "oNe_WOPEtz0N",
        "outputId": "6e06ac62-bc47-40fd-e2eb-0c28efcd248d"
      },
      "execution_count": 44,
      "outputs": [
        {
          "output_type": "stream",
          "name": "stdout",
          "text": [
            "Found 9955 images belonging to 4 classes.\n",
            "Found 2492 images belonging to 4 classes.\n"
          ]
        }
      ]
    },
    {
      "cell_type": "code",
      "source": [
        "import tensorflow as tf\n",
        "from tensorflow.keras import layers\n",
        "from tensorflow.keras.models import Sequential\n",
        "from tensorflow.keras.layers import Conv2D, MaxPooling2D, Flatten, Dense, Dropout\n",
        "from sklearn.metrics import accuracy_score, confusion_matrix\n",
        "\n",
        "# Load the data and preprocess it\n",
        "train_data = train_generator[0][0]\n",
        "train_labels = train_generator[0][1]\n",
        "test_data = test_generator[0][0]\n",
        "test_labels = test_generator[0][1]\n",
        "\n",
        "img_height = 224\n",
        "img_width = 224\n",
        "num_classes =4\n",
        "# Define the CNN architecture\n",
        "model = tf.keras.Sequential([\n",
        "  layers.Conv2D(32, kernel_size=3, activation='relu', input_shape=(img_height, img_width, 3)),\n",
        "  layers.MaxPooling2D(pool_size=(2, 2)),\n",
        "  layers.Conv2D(64, kernel_size=3, activation='relu'),\n",
        "  layers.MaxPooling2D(pool_size=(2, 2)),\n",
        "  layers.Flatten(),\n",
        "  layers.Dense(128, activation='relu'),\n",
        "  layers.Dense(num_classes, activation='softmax')\n",
        "])\n",
        "\n",
        "# Compile the model\n",
        "model.compile(optimizer='adam',\n",
        "              loss='categorical_crossentropy',\n",
        "              metrics=['accuracy'])\n",
        "\n",
        "# Train the model\n",
        "history = model.fit(train_data, train_labels, epochs=100, validation_split=0.2)\n",
        "\n",
        "# Evaluate the model on the test data\n",
        "test_loss, test_acc = model.evaluate(test_data, test_labels)\n",
        "print('Test accuracy:', test_acc)"
      ],
      "metadata": {
        "colab": {
          "base_uri": "https://localhost:8080/"
        },
        "id": "45Cj4fU5zeQa",
        "outputId": "0721901f-3c8f-4876-e678-fe5b85530718"
      },
      "execution_count": 45,
      "outputs": [
        {
          "output_type": "stream",
          "name": "stdout",
          "text": [
            "Epoch 1/100\n",
            "1/1 [==============================] - 2s 2s/step - loss: 1.3703 - accuracy: 0.3750 - val_loss: 23.8305 - val_accuracy: 0.0000e+00\n",
            "Epoch 2/100\n",
            "1/1 [==============================] - 2s 2s/step - loss: 5.9378 - accuracy: 0.5000 - val_loss: 12.2882 - val_accuracy: 0.0000e+00\n",
            "Epoch 3/100\n",
            "1/1 [==============================] - 2s 2s/step - loss: 0.1172 - accuracy: 0.8750 - val_loss: 12.0011 - val_accuracy: 0.0000e+00\n",
            "Epoch 4/100\n",
            "1/1 [==============================] - 1s 1s/step - loss: 0.6898 - accuracy: 0.7500 - val_loss: 9.6368 - val_accuracy: 0.0000e+00\n",
            "Epoch 5/100\n",
            "1/1 [==============================] - 1s 897ms/step - loss: 0.0122 - accuracy: 1.0000 - val_loss: 8.2938 - val_accuracy: 0.0000e+00\n",
            "Epoch 6/100\n",
            "1/1 [==============================] - 1s 885ms/step - loss: 0.0058 - accuracy: 1.0000 - val_loss: 7.3408 - val_accuracy: 0.0000e+00\n",
            "Epoch 7/100\n",
            "1/1 [==============================] - 1s 890ms/step - loss: 0.0070 - accuracy: 1.0000 - val_loss: 6.8686 - val_accuracy: 0.0000e+00\n",
            "Epoch 8/100\n",
            "1/1 [==============================] - 1s 901ms/step - loss: 0.0094 - accuracy: 1.0000 - val_loss: 6.6032 - val_accuracy: 0.0000e+00\n",
            "Epoch 9/100\n",
            "1/1 [==============================] - 1s 911ms/step - loss: 0.0106 - accuracy: 1.0000 - val_loss: 6.3843 - val_accuracy: 0.0000e+00\n",
            "Epoch 10/100\n",
            "1/1 [==============================] - 1s 852ms/step - loss: 0.0099 - accuracy: 1.0000 - val_loss: 6.1250 - val_accuracy: 0.0000e+00\n",
            "Epoch 11/100\n",
            "1/1 [==============================] - 1s 885ms/step - loss: 0.0073 - accuracy: 1.0000 - val_loss: 5.8656 - val_accuracy: 0.0000e+00\n",
            "Epoch 12/100\n",
            "1/1 [==============================] - 1s 890ms/step - loss: 0.0044 - accuracy: 1.0000 - val_loss: 5.6331 - val_accuracy: 0.0000e+00\n",
            "Epoch 13/100\n",
            "1/1 [==============================] - 1s 893ms/step - loss: 0.0024 - accuracy: 1.0000 - val_loss: 5.4423 - val_accuracy: 0.0000e+00\n",
            "Epoch 14/100\n",
            "1/1 [==============================] - 1s 908ms/step - loss: 0.0013 - accuracy: 1.0000 - val_loss: 5.3039 - val_accuracy: 0.0000e+00\n",
            "Epoch 15/100\n",
            "1/1 [==============================] - 1s 1s/step - loss: 7.6668e-04 - accuracy: 1.0000 - val_loss: 5.2368 - val_accuracy: 0.0000e+00\n",
            "Epoch 16/100\n",
            "1/1 [==============================] - 2s 2s/step - loss: 5.0127e-04 - accuracy: 1.0000 - val_loss: 5.2494 - val_accuracy: 0.0000e+00\n",
            "Epoch 17/100\n",
            "1/1 [==============================] - 2s 2s/step - loss: 3.5297e-04 - accuracy: 1.0000 - val_loss: 5.3439 - val_accuracy: 0.0000e+00\n",
            "Epoch 18/100\n",
            "1/1 [==============================] - 1s 1s/step - loss: 2.4492e-04 - accuracy: 1.0000 - val_loss: 5.4867 - val_accuracy: 0.0000e+00\n",
            "Epoch 19/100\n",
            "1/1 [==============================] - 1s 901ms/step - loss: 1.6932e-04 - accuracy: 1.0000 - val_loss: 5.6910 - val_accuracy: 0.0000e+00\n",
            "Epoch 20/100\n",
            "1/1 [==============================] - 1s 886ms/step - loss: 1.1592e-04 - accuracy: 1.0000 - val_loss: 5.9467 - val_accuracy: 0.0000e+00\n",
            "Epoch 21/100\n",
            "1/1 [==============================] - 1s 885ms/step - loss: 8.1723e-05 - accuracy: 1.0000 - val_loss: 6.2490 - val_accuracy: 0.0000e+00\n",
            "Epoch 22/100\n",
            "1/1 [==============================] - 1s 871ms/step - loss: 6.1730e-05 - accuracy: 1.0000 - val_loss: 6.5839 - val_accuracy: 0.0000e+00\n",
            "Epoch 23/100\n",
            "1/1 [==============================] - 1s 895ms/step - loss: 5.0929e-05 - accuracy: 1.0000 - val_loss: 6.9128 - val_accuracy: 0.0000e+00\n",
            "Epoch 24/100\n",
            "1/1 [==============================] - 1s 874ms/step - loss: 4.4358e-05 - accuracy: 1.0000 - val_loss: 7.2290 - val_accuracy: 0.0000e+00\n",
            "Epoch 25/100\n",
            "1/1 [==============================] - 1s 896ms/step - loss: 4.0112e-05 - accuracy: 1.0000 - val_loss: 7.5294 - val_accuracy: 0.0000e+00\n",
            "Epoch 26/100\n",
            "1/1 [==============================] - 1s 870ms/step - loss: 3.6864e-05 - accuracy: 1.0000 - val_loss: 7.8199 - val_accuracy: 0.0000e+00\n",
            "Epoch 27/100\n",
            "1/1 [==============================] - 1s 885ms/step - loss: 3.3690e-05 - accuracy: 1.0000 - val_loss: 8.0981 - val_accuracy: 0.0000e+00\n",
            "Epoch 28/100\n",
            "1/1 [==============================] - 1s 851ms/step - loss: 2.9876e-05 - accuracy: 1.0000 - val_loss: 8.3436 - val_accuracy: 0.0000e+00\n",
            "Epoch 29/100\n",
            "1/1 [==============================] - 1s 1s/step - loss: 2.5659e-05 - accuracy: 1.0000 - val_loss: 8.5685 - val_accuracy: 0.0000e+00\n",
            "Epoch 30/100\n",
            "1/1 [==============================] - 2s 2s/step - loss: 2.1159e-05 - accuracy: 1.0000 - val_loss: 8.7715 - val_accuracy: 0.0000e+00\n",
            "Epoch 31/100\n",
            "1/1 [==============================] - 2s 2s/step - loss: 1.7032e-05 - accuracy: 1.0000 - val_loss: 8.9472 - val_accuracy: 0.0000e+00\n",
            "Epoch 32/100\n",
            "1/1 [==============================] - 1s 1s/step - loss: 1.3545e-05 - accuracy: 1.0000 - val_loss: 9.0997 - val_accuracy: 0.0000e+00\n",
            "Epoch 33/100\n",
            "1/1 [==============================] - 2s 2s/step - loss: 1.0669e-05 - accuracy: 1.0000 - val_loss: 9.2367 - val_accuracy: 0.0000e+00\n",
            "Epoch 34/100\n",
            "1/1 [==============================] - 2s 2s/step - loss: 8.4638e-06 - accuracy: 1.0000 - val_loss: 9.3546 - val_accuracy: 0.0000e+00\n",
            "Epoch 35/100\n",
            "1/1 [==============================] - 2s 2s/step - loss: 6.8396e-06 - accuracy: 1.0000 - val_loss: 9.4587 - val_accuracy: 0.0000e+00\n",
            "Epoch 36/100\n",
            "1/1 [==============================] - 1s 843ms/step - loss: 5.6475e-06 - accuracy: 1.0000 - val_loss: 9.5556 - val_accuracy: 0.0000e+00\n",
            "Epoch 37/100\n",
            "1/1 [==============================] - 1s 849ms/step - loss: 4.7534e-06 - accuracy: 1.0000 - val_loss: 9.6431 - val_accuracy: 0.0000e+00\n",
            "Epoch 38/100\n",
            "1/1 [==============================] - 1s 882ms/step - loss: 4.0680e-06 - accuracy: 1.0000 - val_loss: 9.7224 - val_accuracy: 0.0000e+00\n",
            "Epoch 39/100\n",
            "1/1 [==============================] - 1s 893ms/step - loss: 3.5614e-06 - accuracy: 1.0000 - val_loss: 9.7944 - val_accuracy: 0.0000e+00\n",
            "Epoch 40/100\n",
            "1/1 [==============================] - 1s 983ms/step - loss: 3.1292e-06 - accuracy: 1.0000 - val_loss: 9.8598 - val_accuracy: 0.0000e+00\n",
            "Epoch 41/100\n",
            "1/1 [==============================] - 2s 2s/step - loss: 2.7865e-06 - accuracy: 1.0000 - val_loss: 9.9191 - val_accuracy: 0.0000e+00\n",
            "Epoch 42/100\n",
            "1/1 [==============================] - 2s 2s/step - loss: 2.5183e-06 - accuracy: 1.0000 - val_loss: 9.9728 - val_accuracy: 0.0000e+00\n",
            "Epoch 43/100\n",
            "1/1 [==============================] - 1s 1s/step - loss: 2.2799e-06 - accuracy: 1.0000 - val_loss: 10.0218 - val_accuracy: 0.0000e+00\n",
            "Epoch 44/100\n",
            "1/1 [==============================] - 1s 868ms/step - loss: 2.0862e-06 - accuracy: 1.0000 - val_loss: 10.0665 - val_accuracy: 0.0000e+00\n",
            "Epoch 45/100\n",
            "1/1 [==============================] - 1s 866ms/step - loss: 1.9222e-06 - accuracy: 1.0000 - val_loss: 10.1074 - val_accuracy: 0.0000e+00\n",
            "Epoch 46/100\n",
            "1/1 [==============================] - 1s 896ms/step - loss: 1.7732e-06 - accuracy: 1.0000 - val_loss: 10.1449 - val_accuracy: 0.0000e+00\n",
            "Epoch 47/100\n",
            "1/1 [==============================] - 1s 859ms/step - loss: 1.6540e-06 - accuracy: 1.0000 - val_loss: 10.1791 - val_accuracy: 0.0000e+00\n",
            "Epoch 48/100\n",
            "1/1 [==============================] - 1s 939ms/step - loss: 1.5497e-06 - accuracy: 1.0000 - val_loss: 10.2103 - val_accuracy: 0.0000e+00\n",
            "Epoch 49/100\n",
            "1/1 [==============================] - 1s 863ms/step - loss: 1.4603e-06 - accuracy: 1.0000 - val_loss: 10.2388 - val_accuracy: 0.0000e+00\n",
            "Epoch 50/100\n",
            "1/1 [==============================] - 1s 870ms/step - loss: 1.4007e-06 - accuracy: 1.0000 - val_loss: 10.2648 - val_accuracy: 0.0000e+00\n",
            "Epoch 51/100\n",
            "1/1 [==============================] - 1s 851ms/step - loss: 1.2964e-06 - accuracy: 1.0000 - val_loss: 10.2885 - val_accuracy: 0.0000e+00\n",
            "Epoch 52/100\n",
            "1/1 [==============================] - 1s 878ms/step - loss: 1.2517e-06 - accuracy: 1.0000 - val_loss: 10.3101 - val_accuracy: 0.0000e+00\n",
            "Epoch 53/100\n",
            "1/1 [==============================] - 1s 892ms/step - loss: 1.1921e-06 - accuracy: 1.0000 - val_loss: 10.3298 - val_accuracy: 0.0000e+00\n",
            "Epoch 54/100\n",
            "1/1 [==============================] - 1s 873ms/step - loss: 1.1474e-06 - accuracy: 1.0000 - val_loss: 10.3478 - val_accuracy: 0.0000e+00\n",
            "Epoch 55/100\n",
            "1/1 [==============================] - 1s 1s/step - loss: 1.1176e-06 - accuracy: 1.0000 - val_loss: 10.3642 - val_accuracy: 0.0000e+00\n",
            "Epoch 56/100\n",
            "1/1 [==============================] - 2s 2s/step - loss: 1.0431e-06 - accuracy: 1.0000 - val_loss: 10.3791 - val_accuracy: 0.0000e+00\n",
            "Epoch 57/100\n",
            "1/1 [==============================] - 2s 2s/step - loss: 1.0133e-06 - accuracy: 1.0000 - val_loss: 10.3928 - val_accuracy: 0.0000e+00\n",
            "Epoch 58/100\n",
            "1/1 [==============================] - 1s 877ms/step - loss: 9.8347e-07 - accuracy: 1.0000 - val_loss: 10.4052 - val_accuracy: 0.0000e+00\n",
            "Epoch 59/100\n",
            "1/1 [==============================] - 1s 858ms/step - loss: 9.3877e-07 - accuracy: 1.0000 - val_loss: 10.4159 - val_accuracy: 0.0000e+00\n",
            "Epoch 60/100\n",
            "1/1 [==============================] - 1s 865ms/step - loss: 9.2387e-07 - accuracy: 1.0000 - val_loss: 10.4251 - val_accuracy: 0.0000e+00\n",
            "Epoch 61/100\n",
            "1/1 [==============================] - 1s 868ms/step - loss: 8.7917e-07 - accuracy: 1.0000 - val_loss: 10.4329 - val_accuracy: 0.0000e+00\n",
            "Epoch 62/100\n",
            "1/1 [==============================] - 1s 871ms/step - loss: 8.4936e-07 - accuracy: 1.0000 - val_loss: 10.4393 - val_accuracy: 0.0000e+00\n",
            "Epoch 63/100\n",
            "1/1 [==============================] - 1s 878ms/step - loss: 8.3446e-07 - accuracy: 1.0000 - val_loss: 10.4446 - val_accuracy: 0.0000e+00\n",
            "Epoch 64/100\n",
            "1/1 [==============================] - 1s 916ms/step - loss: 7.8976e-07 - accuracy: 1.0000 - val_loss: 10.4489 - val_accuracy: 0.0000e+00\n",
            "Epoch 65/100\n",
            "1/1 [==============================] - 1s 863ms/step - loss: 7.7486e-07 - accuracy: 1.0000 - val_loss: 10.4526 - val_accuracy: 0.0000e+00\n",
            "Epoch 66/100\n",
            "1/1 [==============================] - 1s 854ms/step - loss: 7.5996e-07 - accuracy: 1.0000 - val_loss: 10.4558 - val_accuracy: 0.0000e+00\n",
            "Epoch 67/100\n",
            "1/1 [==============================] - 1s 874ms/step - loss: 7.3016e-07 - accuracy: 1.0000 - val_loss: 10.4587 - val_accuracy: 0.0000e+00\n",
            "Epoch 68/100\n",
            "1/1 [==============================] - 1s 860ms/step - loss: 7.1525e-07 - accuracy: 1.0000 - val_loss: 10.4612 - val_accuracy: 0.0000e+00\n",
            "Epoch 69/100\n",
            "1/1 [==============================] - 1s 1s/step - loss: 7.0035e-07 - accuracy: 1.0000 - val_loss: 10.4633 - val_accuracy: 0.0000e+00\n",
            "Epoch 70/100\n",
            "1/1 [==============================] - 2s 2s/step - loss: 6.8545e-07 - accuracy: 1.0000 - val_loss: 10.4650 - val_accuracy: 0.0000e+00\n",
            "Epoch 71/100\n",
            "1/1 [==============================] - 2s 2s/step - loss: 6.8545e-07 - accuracy: 1.0000 - val_loss: 10.4665 - val_accuracy: 0.0000e+00\n",
            "Epoch 72/100\n",
            "1/1 [==============================] - 1s 1s/step - loss: 6.7055e-07 - accuracy: 1.0000 - val_loss: 10.4677 - val_accuracy: 0.0000e+00\n",
            "Epoch 73/100\n",
            "1/1 [==============================] - 1s 863ms/step - loss: 6.4075e-07 - accuracy: 1.0000 - val_loss: 10.4686 - val_accuracy: 0.0000e+00\n",
            "Epoch 74/100\n",
            "1/1 [==============================] - 1s 874ms/step - loss: 6.4075e-07 - accuracy: 1.0000 - val_loss: 10.4693 - val_accuracy: 0.0000e+00\n",
            "Epoch 75/100\n",
            "1/1 [==============================] - 1s 860ms/step - loss: 6.2585e-07 - accuracy: 1.0000 - val_loss: 10.4697 - val_accuracy: 0.0000e+00\n",
            "Epoch 76/100\n",
            "1/1 [==============================] - 1s 873ms/step - loss: 6.2585e-07 - accuracy: 1.0000 - val_loss: 10.4695 - val_accuracy: 0.0000e+00\n",
            "Epoch 77/100\n",
            "1/1 [==============================] - 1s 871ms/step - loss: 5.9605e-07 - accuracy: 1.0000 - val_loss: 10.4690 - val_accuracy: 0.0000e+00\n",
            "Epoch 78/100\n",
            "1/1 [==============================] - 1s 878ms/step - loss: 5.9605e-07 - accuracy: 1.0000 - val_loss: 10.4685 - val_accuracy: 0.0000e+00\n",
            "Epoch 79/100\n",
            "1/1 [==============================] - 1s 867ms/step - loss: 5.8114e-07 - accuracy: 1.0000 - val_loss: 10.4681 - val_accuracy: 0.0000e+00\n",
            "Epoch 80/100\n",
            "1/1 [==============================] - 1s 862ms/step - loss: 5.5134e-07 - accuracy: 1.0000 - val_loss: 10.4676 - val_accuracy: 0.0000e+00\n",
            "Epoch 81/100\n",
            "1/1 [==============================] - 1s 899ms/step - loss: 5.3644e-07 - accuracy: 1.0000 - val_loss: 10.4671 - val_accuracy: 0.0000e+00\n",
            "Epoch 82/100\n",
            "1/1 [==============================] - 1s 850ms/step - loss: 5.3644e-07 - accuracy: 1.0000 - val_loss: 10.4661 - val_accuracy: 0.0000e+00\n",
            "Epoch 83/100\n",
            "1/1 [==============================] - 1s 1s/step - loss: 5.2154e-07 - accuracy: 1.0000 - val_loss: 10.4649 - val_accuracy: 0.0000e+00\n",
            "Epoch 84/100\n",
            "1/1 [==============================] - 2s 2s/step - loss: 5.2154e-07 - accuracy: 1.0000 - val_loss: 10.4634 - val_accuracy: 0.0000e+00\n",
            "Epoch 85/100\n",
            "1/1 [==============================] - 2s 2s/step - loss: 5.0664e-07 - accuracy: 1.0000 - val_loss: 10.4621 - val_accuracy: 0.0000e+00\n",
            "Epoch 86/100\n",
            "1/1 [==============================] - 2s 2s/step - loss: 5.0664e-07 - accuracy: 1.0000 - val_loss: 10.4608 - val_accuracy: 0.0000e+00\n",
            "Epoch 87/100\n",
            "1/1 [==============================] - 2s 2s/step - loss: 5.0664e-07 - accuracy: 1.0000 - val_loss: 10.4596 - val_accuracy: 0.0000e+00\n",
            "Epoch 88/100\n",
            "1/1 [==============================] - 2s 2s/step - loss: 4.9174e-07 - accuracy: 1.0000 - val_loss: 10.4586 - val_accuracy: 0.0000e+00\n",
            "Epoch 89/100\n",
            "1/1 [==============================] - 1s 1s/step - loss: 4.9174e-07 - accuracy: 1.0000 - val_loss: 10.4576 - val_accuracy: 0.0000e+00\n",
            "Epoch 90/100\n",
            "1/1 [==============================] - 1s 880ms/step - loss: 4.6194e-07 - accuracy: 1.0000 - val_loss: 10.4566 - val_accuracy: 0.0000e+00\n",
            "Epoch 91/100\n",
            "1/1 [==============================] - 1s 926ms/step - loss: 4.6194e-07 - accuracy: 1.0000 - val_loss: 10.4554 - val_accuracy: 0.0000e+00\n",
            "Epoch 92/100\n",
            "1/1 [==============================] - 1s 883ms/step - loss: 4.6194e-07 - accuracy: 1.0000 - val_loss: 10.4540 - val_accuracy: 0.0000e+00\n",
            "Epoch 93/100\n",
            "1/1 [==============================] - 1s 868ms/step - loss: 4.4703e-07 - accuracy: 1.0000 - val_loss: 10.4525 - val_accuracy: 0.0000e+00\n",
            "Epoch 94/100\n",
            "1/1 [==============================] - 1s 889ms/step - loss: 4.4703e-07 - accuracy: 1.0000 - val_loss: 10.4514 - val_accuracy: 0.0000e+00\n",
            "Epoch 95/100\n",
            "1/1 [==============================] - 1s 1s/step - loss: 4.4703e-07 - accuracy: 1.0000 - val_loss: 10.4504 - val_accuracy: 0.0000e+00\n",
            "Epoch 96/100\n",
            "1/1 [==============================] - 2s 2s/step - loss: 4.4703e-07 - accuracy: 1.0000 - val_loss: 10.4497 - val_accuracy: 0.0000e+00\n",
            "Epoch 97/100\n",
            "1/1 [==============================] - 2s 2s/step - loss: 4.3213e-07 - accuracy: 1.0000 - val_loss: 10.4492 - val_accuracy: 0.0000e+00\n",
            "Epoch 98/100\n",
            "1/1 [==============================] - 1s 1s/step - loss: 4.3213e-07 - accuracy: 1.0000 - val_loss: 10.4487 - val_accuracy: 0.0000e+00\n",
            "Epoch 99/100\n",
            "1/1 [==============================] - 1s 879ms/step - loss: 4.3213e-07 - accuracy: 1.0000 - val_loss: 10.4481 - val_accuracy: 0.0000e+00\n",
            "Epoch 100/100\n",
            "1/1 [==============================] - 1s 881ms/step - loss: 4.3213e-07 - accuracy: 1.0000 - val_loss: 10.4474 - val_accuracy: 0.0000e+00\n",
            "1/1 [==============================] - 0s 217ms/step - loss: 259.5731 - accuracy: 0.8000\n",
            "Test accuracy: 0.800000011920929\n"
          ]
        }
      ]
    },
    {
      "cell_type": "code",
      "source": [
        "train_loss , train_acc = model.evaluate(train_data, train_labels)\n",
        "print('Train accuracy:', train_acc*100)\n",
        "print('Test accuracy:', test_acc*100)"
      ],
      "metadata": {
        "colab": {
          "base_uri": "https://localhost:8080/"
        },
        "id": "dgl6Gzoi0Sxa",
        "outputId": "a914c286-e8e0-4e15-8b01-32d7ae4e0bea"
      },
      "execution_count": 50,
      "outputs": [
        {
          "output_type": "stream",
          "name": "stdout",
          "text": [
            "1/1 [==============================] - 0s 327ms/step - loss: 2.0895 - accuracy: 0.8000\n",
            "Train accuracy: 80.0000011920929\n",
            "Test accuracy: 80.0000011920929\n"
          ]
        }
      ]
    },
    {
      "cell_type": "code",
      "source": [
        "# Get the predictions for the test data\n",
        "test_preds = model.predict(test_data)\n",
        "test_preds = np.argmax(test_preds, axis=1)\n",
        "\n",
        "# Get the true labels for the test data\n",
        "test_true = np.argmax(test_labels, axis=1)\n",
        "\n",
        "# Calculate the confusion matrix for the test data\n",
        "conf_matrix_test = confusion_matrix(test_true, test_preds)\n",
        "\n",
        "print(\"Training accuracy: {:.2f}%\".format(train_acc*100))\n",
        "print(\"Testing accuracy: {:.2f}%\".format(test_acc*100))\n",
        "print(\"Testing confusion matrix:\")\n",
        "print(conf_matrix_test)"
      ],
      "metadata": {
        "colab": {
          "base_uri": "https://localhost:8080/"
        },
        "id": "hqW8gmad1Xef",
        "outputId": "4b118ae7-becf-4ea8-e54a-7b9cafed7d24"
      },
      "execution_count": 51,
      "outputs": [
        {
          "output_type": "stream",
          "name": "stdout",
          "text": [
            "1/1 [==============================] - 0s 324ms/step\n",
            "Training accuracy: 80.00%\n",
            "Testing accuracy: 80.00%\n",
            "Testing confusion matrix:\n",
            "[[8 2]\n",
            " [0 0]]\n"
          ]
        }
      ]
    },
    {
      "cell_type": "code",
      "source": [
        "from sklearn.metrics import accuracy_score,confusion_matrix,classification_report\n",
        "cr = classification_report(test_true, test_preds)\n",
        "print(\"Classification report:\")\n",
        "print(cr)"
      ],
      "metadata": {
        "colab": {
          "base_uri": "https://localhost:8080/"
        },
        "id": "_kHfpADvu54V",
        "outputId": "7bfbf3b6-eae6-4c40-c06c-ab6cf8640089"
      },
      "execution_count": 52,
      "outputs": [
        {
          "output_type": "stream",
          "name": "stdout",
          "text": [
            "Classification report:\n",
            "              precision    recall  f1-score   support\n",
            "\n",
            "           0       1.00      0.80      0.89        10\n",
            "           1       0.00      0.00      0.00         0\n",
            "\n",
            "    accuracy                           0.80        10\n",
            "   macro avg       0.50      0.40      0.44        10\n",
            "weighted avg       1.00      0.80      0.89        10\n",
            "\n"
          ]
        },
        {
          "output_type": "stream",
          "name": "stderr",
          "text": [
            "/usr/local/lib/python3.9/dist-packages/sklearn/metrics/_classification.py:1344: UndefinedMetricWarning: Recall and F-score are ill-defined and being set to 0.0 in labels with no true samples. Use `zero_division` parameter to control this behavior.\n",
            "  _warn_prf(average, modifier, msg_start, len(result))\n",
            "/usr/local/lib/python3.9/dist-packages/sklearn/metrics/_classification.py:1344: UndefinedMetricWarning: Recall and F-score are ill-defined and being set to 0.0 in labels with no true samples. Use `zero_division` parameter to control this behavior.\n",
            "  _warn_prf(average, modifier, msg_start, len(result))\n",
            "/usr/local/lib/python3.9/dist-packages/sklearn/metrics/_classification.py:1344: UndefinedMetricWarning: Recall and F-score are ill-defined and being set to 0.0 in labels with no true samples. Use `zero_division` parameter to control this behavior.\n",
            "  _warn_prf(average, modifier, msg_start, len(result))\n"
          ]
        }
      ]
    }
  ]
}
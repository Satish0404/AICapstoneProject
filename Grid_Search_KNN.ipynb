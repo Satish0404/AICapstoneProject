{
  "cells": [
    {
      "cell_type": "code",
      "execution_count": null,
      "metadata": {
        "id": "dol_bL2MclSC"
      },
      "outputs": [],
      "source": [
        "import numpy as np\n",
        "import pandas as pd\n",
        "import matplotlib.pyplot as plt\n",
        "import cv2\n",
        "import tensorflow as tf\n",
        "from PIL import Image\n",
        "import os\n",
        "from sklearn.model_selection import train_test_split\n",
        "from tensorflow.keras.utils import to_categorical\n",
        "from keras.models import Sequential , load_model\n",
        "from sklearn.neighbors import KNeighborsClassifier\n",
        "from sklearn.metrics import accuracy_score"
      ]
    },
    {
      "cell_type": "code",
      "execution_count": null,
      "metadata": {
        "colab": {
          "base_uri": "https://localhost:8080/"
        },
        "id": "UWsZxOpNmIaf",
        "outputId": "445cc152-7ddd-4351-e6cc-7f3bcc04a043"
      },
      "outputs": [
        {
          "output_type": "stream",
          "name": "stdout",
          "text": [
            "Drive already mounted at /content/gdrive; to attempt to forcibly remount, call drive.mount(\"/content/gdrive\", force_remount=True).\n"
          ]
        }
      ],
      "source": [
        "from google.colab import drive\n",
        "drive.mount('/content/gdrive')"
      ]
    },
    {
      "cell_type": "code",
      "execution_count": null,
      "metadata": {
        "colab": {
          "base_uri": "https://localhost:8080/"
        },
        "id": "-Aa2bNUrmeBU",
        "outputId": "b100a53f-2452-4013-c29e-d2d82565d8a6"
      },
      "outputs": [
        {
          "output_type": "stream",
          "name": "stdout",
          "text": [
            "/content/gdrive/MyDrive\n"
          ]
        }
      ],
      "source": [
        "cd /content/gdrive/MyDrive"
      ]
    },
    {
      "cell_type": "code",
      "execution_count": null,
      "metadata": {
        "id": "85gsDfcKhHzJ"
      },
      "outputs": [],
      "source": [
        "import os\n",
        "import shutil\n",
        "\n",
        "# Define the path to the original dataset\n",
        "data_path = '/content/gdrive/MyDrive/AICapstoneProjectData/CT-KIDNEY-DATASET-Normal-Cyst-Tumor-Stone/CT-KIDNEY-DATASET-Normal-Cyst-Tumor-Stone'\n",
        "# Define the path to the output directory\n",
        "output_path = './dataset'\n",
        "\n",
        "# Define the ratios for train/val/test splits\n",
        "train_ratio = 0.8\n",
        "test_ratio = 0.2\n",
        "\n",
        "# Create the output directories if they do not exist\n",
        "if not os.path.exists(output_path):\n",
        "    os.makedirs(output_path)\n",
        "for dir_name in ['train', 'test']:\n",
        "    dir_path = os.path.join(output_path, dir_name)\n",
        "    if not os.path.exists(dir_path):\n",
        "        os.makedirs(dir_path)\n",
        "    for class_name in ['Cyst','Normal','Stone','Tumor']:\n",
        "        class_path = os.path.join(dir_path, class_name)\n",
        "        if not os.path.exists(class_path):\n",
        "            os.makedirs(class_path)\n",
        "\n",
        "# Loop over each class and copy files to train/val/test directories\n",
        "for class_name in ['Cyst', 'Normal', 'Stone', 'Tumor']:\n",
        "    class_path = os.path.join(data_path, class_name)\n",
        "    files = os.listdir(class_path)\n",
        "    num_files = len(files)\n",
        "    num_train = int(num_files * train_ratio)\n",
        "    num_test = num_files - num_train\n",
        "    for i, file_name in enumerate(files):\n",
        "        src_path = os.path.join(class_path, file_name)\n",
        "        if i < num_train:\n",
        "            dst_path = os.path.join(output_path, 'train', class_name, file_name)\n",
        "        else:\n",
        "            dst_path = os.path.join(output_path, 'test', class_name, file_name)\n",
        "        shutil.copy(src_path, dst_path)"
      ]
    },
    {
      "cell_type": "code",
      "source": [
        "from tensorflow.keras.preprocessing.image import ImageDataGenerator\n",
        "from tensorflow.keras.applications.efficientnet import preprocess_input\n",
        "\n",
        "train_path = './dataset/train'\n",
        "test_path = './dataset/test'\n",
        "\n",
        "img_size = (224,224)\n",
        "batch_size = 25\n",
        "test_batch_size = 32\n",
        "test_steps = 1\n",
        "\n",
        "#applying normalization and data Argumentation\n",
        "train_datagen = ImageDataGenerator(\n",
        "    rescale=1./255,\n",
        "    rotation_range=20,\n",
        "    zoom_range=0.2,\n",
        "    shear_range=0.2,\n",
        "    horizontal_flip=True,\n",
        "    brightness_range=[0.8,1.2],\n",
        "    preprocessing_function=preprocess_input,\n",
        "\n",
        ")\n",
        "test_datagen = ImageDataGenerator(\n",
        "    preprocessing_function=preprocess_input\n",
        ")\n",
        "\n",
        "train_generator = train_datagen.flow_from_directory(\n",
        "    directory=train_path,\n",
        "    target_size=(224,224),\n",
        "    class_mode='categorical',\n",
        "    shuffle=True,\n",
        "    batch_size=batch_size\n",
        ")\n",
        "\n",
        "test_generator = test_datagen.flow_from_directory(\n",
        "    directory=test_path,\n",
        "    target_size=(224,224),\n",
        "    class_mode='categorical',\n",
        "    shuffle=False,\n",
        "    batch_size=test_batch_size\n",
        ")\n",
        "\n",
        "classes = list(train_generator.class_indices.keys())\n",
        "class_count = len(classes)\n",
        "train_steps = int(np.ceil(len(train_generator.labels) / batch_size))"
      ],
      "metadata": {
        "colab": {
          "base_uri": "https://localhost:8080/"
        },
        "id": "bkc9G6TnArQz",
        "outputId": "2af3213e-0fe9-4e51-dcbb-f21ba0420d1b"
      },
      "execution_count": null,
      "outputs": [
        {
          "output_type": "stream",
          "name": "stdout",
          "text": [
            "Found 9955 images belonging to 4 classes.\n",
            "Found 2492 images belonging to 4 classes.\n"
          ]
        }
      ]
    },
    {
      "cell_type": "code",
      "source": [
        "import numpy as np\n",
        "from sklearn.neighbors import KNeighborsClassifier\n",
        "from sklearn.model_selection import train_test_split\n",
        "from sklearn.metrics import accuracy_score\n",
        "\n",
        "train_data = train_generator[0][0]\n",
        "train_labels = train_generator[0][1]\n",
        "test_data = test_generator[0][0]\n",
        "test_labels = test_generator[0][1]\n",
        "\n",
        "# Reshape the data to 2D for KNN\n",
        "train_data = np.reshape(train_data, (train_data.shape[0], -1))\n",
        "test_data = np.reshape(test_data, (test_data.shape[0], -1))\n",
        "\n",
        "# Convert one-hot encoded labels to integer labels\n",
        "train_labels = np.argmax(train_labels, axis=1)\n",
        "test_labels = np.argmax(test_labels, axis=1)\n",
        "\n",
        "# Split the data into training and validation sets with a 70/30 split\n",
        "X_train, X_val, y_train, y_val = train_test_split(train_data, train_labels, test_size=0.2, random_state=42)\n",
        "\n",
        "# Define a range of K values to search over\n",
        "k_values = [3, 5, 7, 9, 11, 13, 15, 17]\n",
        "\n",
        "# Calculate accuracies for different values of K\n",
        "train_accuracy = []\n",
        "val_accuracy = []\n",
        "for k in k_values:\n",
        "    knn = KNeighborsClassifier(n_neighbors=k)\n",
        "    knn.fit(X_train, y_train)\n",
        "    train_preds = knn.predict(X_train)\n",
        "    val_preds = knn.predict(X_val)\n",
        "    train_accuracy_score = accuracy_score(y_train, train_preds)\n",
        "    val_accuracy_score = accuracy_score(y_val, val_preds)\n",
        "    train_accuracy.append(train_accuracy_score)\n",
        "    val_accuracy.append(val_accuracy_score)\n",
        "\n",
        "# Print the accuracies for different values of K\n",
        "for k, train_acc, val_acc in zip(k_values, train_accuracy, val_accuracy):\n",
        "    print(f\"K = {k}, train accuracy = {train_acc*100}, validation accuracy = {val_acc*100}\")\n",
        "\n",
        "# Select the best K based on the validation accuracy and evaluate the model on the test data\n",
        "best_k = k_values[np.argmax(val_accuracy)]\n",
        "best_knn = KNeighborsClassifier(n_neighbors=best_k)\n",
        "best_knn.fit(train_data, train_labels)\n",
        "test_acc = best_knn.score(test_data, test_labels)\n",
        "print(f\"Best K = {best_k}, test accuracy = {test_acc}\")"
      ],
      "metadata": {
        "colab": {
          "base_uri": "https://localhost:8080/"
        },
        "id": "fae6JuNUVy4Y",
        "outputId": "57ae53e3-487a-4e23-cb79-890dd7a272e3"
      },
      "execution_count": null,
      "outputs": [
        {
          "output_type": "stream",
          "name": "stdout",
          "text": [
            "K = 3, train accuracy = 55.00000000000001, validation accuracy = 40.0\n",
            "K = 5, train accuracy = 50.0, validation accuracy = 20.0\n",
            "K = 7, train accuracy = 50.0, validation accuracy = 60.0\n",
            "K = 9, train accuracy = 50.0, validation accuracy = 20.0\n",
            "K = 11, train accuracy = 40.0, validation accuracy = 20.0\n",
            "K = 13, train accuracy = 35.0, validation accuracy = 20.0\n",
            "K = 15, train accuracy = 30.0, validation accuracy = 0.0\n",
            "K = 17, train accuracy = 30.0, validation accuracy = 0.0\n",
            "Best K = 7, test accuracy = 0.0\n"
          ]
        }
      ]
    },
    {
      "cell_type": "markdown",
      "source": [
        "KNN using GridSearch"
      ],
      "metadata": {
        "id": "eOYg3kbMVnbB"
      }
    },
    {
      "cell_type": "code",
      "source": [
        "import numpy as np\n",
        "from sklearn.neighbors import KNeighborsClassifier\n",
        "from sklearn.decomposition import PCA\n",
        "from sklearn.preprocessing import StandardScaler\n",
        "from sklearn.model_selection import GridSearchCV, StratifiedKFold\n",
        "from sklearn.metrics import accuracy_score\n",
        "from sklearn.pipeline import Pipeline\n",
        "import random\n",
        "\n",
        "#set the seed value\n",
        "random.seed(100)\n",
        "np.random.seed(100)\n",
        "\n",
        "# Get the training and testing data\n",
        "x_train, y_train = train_generator.next()\n",
        "x_test, y_test = test_generator.next()\n",
        "\n",
        "# Reshape the data to 2D\n",
        "x_train = x_train.reshape(x_train.shape[0], -1)\n",
        "x_test = x_test.reshape(x_test.shape[0], -1)\n",
        "\n",
        "# Normalize the data\n",
        "scaler = StandardScaler()\n",
        "x_train = scaler.fit_transform(x_train)\n",
        "x_test = scaler.transform(x_test)\n",
        "\n",
        "# Apply PCA to reduce the dimensionality of the data\n",
        "pca = PCA(n_components=20)\n",
        "x_train = pca.fit_transform(x_train)\n",
        "x_test = pca.transform(x_test)\n",
        "\n",
        "# Define the range of k values to consider\n",
        "k_values = range(2, 11)\n",
        "\n",
        "# Define the parameter grid for cross-validation\n",
        "param_grid = {'knn__n_neighbors': k_values, 'knn__weights': ['uniform', 'distance'], 'knn__p': [2], 'knn__algorithm': ['ball_tree'], 'knn__leaf_size': [10]}\n",
        "\n",
        "# Define the KNN model with L2 regularization\n",
        "knn_model = KNeighborsClassifier(weights='uniform', algorithm='ball_tree', p=2, leaf_size=10)\n",
        "\n",
        "# Define the pipeline with PCA and the KNN model\n",
        "pipeline = Pipeline(steps=[('pca', pca), ('knn', knn_model)])\n",
        "\n",
        "# Define the cross-validation object with stratified sampling\n",
        "cv = StratifiedKFold(n_splits=5)\n",
        "\n",
        "# Perform grid search to find the best hyperparameters\n",
        "grid_search = GridSearchCV(pipeline,param_grid, cv=cv, scoring='accuracy',error_score = 'raise')\n",
        "grid_search.fit(x_train, np.argmax(y_train, axis=1))\n",
        "\n",
        "# Get the best hyperparameters and the best model\n",
        "best_k = grid_search.best_params_['knn__n_neighbors']\n",
        "best_weights = grid_search.best_params_['knn__weights']\n",
        "best_p = grid_search.best_params_['knn__p']\n",
        "best_algorithm = grid_search.best_params_['knn__algorithm']\n",
        "best_leaf_size = grid_search.best_params_['knn__leaf_size']\n",
        "best_model = grid_search.best_estimator_\n",
        "\n",
        "# Print the best hyperparameters\n",
        "print(\"Best hyperparameters:\")\n",
        "print(\"k = {}\".format(best_k))\n",
        "print(\"weights = {}\".format(best_weights))\n",
        "print(\"p = {}\".format(best_p))\n",
        "print(\"algorithm = {}\".format(best_algorithm))\n",
        "print(\"leaf_size = {}\".format(best_leaf_size))\n",
        "\n",
        "# Fit the best model to the training data\n",
        "best_model.fit(x_train, np.argmax(y_train, axis=1))\n",
        "\n",
        "# Get the predictions for the training and testing data\n",
        "train_preds = best_model.predict(x_train)\n",
        "test_preds = best_model.predict(x_test)\n",
        "\n",
        "# Calculate the accuracy of the model on the training and testing data\n",
        "train_accuracy = accuracy_score(np.argmax(y_train, axis=1), train_preds)\n",
        "test_accuracy = accuracy_score(np.argmax(y_test, axis=1), test_preds)\n",
        "\n",
        "# Print the accuracy for the best model\n",
        "print(\"Best model: Training Accuracy: {:.2f}%, Testing Accuracy: {:.2f}%\".format(train_accuracy * 100, test_accuracy * 100))"
      ],
      "metadata": {
        "colab": {
          "base_uri": "https://localhost:8080/"
        },
        "id": "X2U3xriphMhT",
        "outputId": "544dc7bd-b6c4-4063-90ea-2c18574fd617"
      },
      "execution_count": null,
      "outputs": [
        {
          "output_type": "stream",
          "name": "stderr",
          "text": [
            "/usr/local/lib/python3.9/dist-packages/sklearn/model_selection/_split.py:700: UserWarning: The least populated class in y has only 1 members, which is less than n_splits=5.\n",
            "  warnings.warn(\n"
          ]
        },
        {
          "output_type": "stream",
          "name": "stdout",
          "text": [
            "Best hyperparameters:\n",
            "k = 4\n",
            "weights = uniform\n",
            "p = 2\n",
            "algorithm = ball_tree\n",
            "leaf_size = 10\n",
            "Best model: Training Accuracy: 56.00%, Testing Accuracy: 18.75%\n"
          ]
        }
      ]
    },
    {
      "cell_type": "code",
      "source": [
        "from sklearn.metrics import confusion_matrix\n",
        "\n",
        "# Get the true labels and predicted labels\n",
        "y_true = np.argmax(y_test, axis=1)\n",
        "y_pred = best_model.predict(x_test)\n",
        "\n",
        "# Create the confusion matrix\n",
        "cm = confusion_matrix(y_true, y_pred)\n",
        "\n",
        "# Print the confusion matrix\n",
        "print(\"Confusion Matrix:\")\n",
        "print(cm)\n",
        "\n",
        "# Get the accuracy for each class\n",
        "class_accuracy = cm.diagonal() / cm.sum(axis=1)\n",
        "\n",
        "# Print the accuracy for each class\n",
        "print(\"Accuracy for Each Class:\")\n",
        "for i in range(len(class_accuracy)):\n",
        "    print(\"Class {}: {:.2f}%\".format(i, class_accuracy[i] * 100))"
      ],
      "metadata": {
        "colab": {
          "base_uri": "https://localhost:8080/"
        },
        "id": "R2WFGeehWSps",
        "outputId": "9f7c6e75-afeb-449d-e6cc-7cf9a259b45b"
      },
      "execution_count": null,
      "outputs": [
        {
          "output_type": "stream",
          "name": "stdout",
          "text": [
            "Confusion Matrix:\n",
            "[[ 6 26]\n",
            " [ 0  0]]\n",
            "Accuracy for Each Class:\n",
            "Class 0: 18.75%\n",
            "Class 1: nan%\n"
          ]
        },
        {
          "output_type": "stream",
          "name": "stderr",
          "text": [
            "<ipython-input-98-9ce050cfbbcf>:15: RuntimeWarning: invalid value encountered in true_divide\n",
            "  class_accuracy = cm.diagonal() / cm.sum(axis=1)\n"
          ]
        }
      ]
    },
    {
      "cell_type": "code",
      "source": [
        "import matplotlib.pyplot as plt\n",
        "import seaborn as sns\n",
        "\n",
        "# Plot the confusion matrix as a heatmap\n",
        "plt.figure(figsize=(8, 6))\n",
        "sns.heatmap(cm, annot=True, cmap=\"Blues\", fmt=\"d\")\n",
        "plt.title(\"Confusion Matrix\")\n",
        "plt.xlabel(\"Predicted Label\")\n",
        "plt.ylabel(\"True Label\")\n",
        "plt.show()"
      ],
      "metadata": {
        "colab": {
          "base_uri": "https://localhost:8080/",
          "height": 564
        },
        "id": "cuXGxwUIXaLh",
        "outputId": "279c302c-8ef9-48d5-a8ad-20693d2132d4"
      },
      "execution_count": null,
      "outputs": [
        {
          "output_type": "display_data",
          "data": {
            "text/plain": [
              "<Figure size 800x600 with 2 Axes>"
            ],
            "image/png": "[encoded data removed]"
          },
          "metadata": {}
        }
      ]
    }
  ],
  "metadata": {
    "colab": {
      "provenance": [],
      "toc_visible": true
    },
    "kernelspec": {
      "display_name": "Python 3",
      "name": "python3"
    },
    "language_info": {
      "name": "python"
    },
    "accelerator": "GPU",
    "gpuClass": "standard"
  },
  "nbformat": 4,
  "nbformat_minor": 0
}
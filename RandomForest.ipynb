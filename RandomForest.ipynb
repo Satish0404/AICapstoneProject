{
  "nbformat": 4,
  "nbformat_minor": 0,
  "metadata": {
    "colab": {
      "provenance": []
    },
    "kernelspec": {
      "name": "python3",
      "display_name": "Python 3"
    },
    "language_info": {
      "name": "python"
    }
  },
  "cells": [
    {
      "cell_type": "code",
      "execution_count": 27,
      "metadata": {
        "id": "94kUBBI-ovhb"
      },
      "outputs": [],
      "source": [
        "import numpy as np\n",
        "import pandas as pd\n",
        "import matplotlib.pyplot as plt\n",
        "import cv2\n",
        "import tensorflow as tf\n",
        "from PIL import Image\n",
        "import os\n",
        "from sklearn.model_selection import train_test_split\n",
        "from tensorflow.keras.utils import to_categorical\n",
        "from keras.models import Sequential , load_model\n",
        "from sklearn.neighbors import KNeighborsClassifier\n",
        "from sklearn.metrics import accuracy_score"
      ]
    },
    {
      "cell_type": "code",
      "source": [
        "from google.colab import drive\n",
        "drive.mount('/content/gdrive')"
      ],
      "metadata": {
        "colab": {
          "base_uri": "https://localhost:8080/"
        },
        "id": "j-0yzZ0yoyYw",
        "outputId": "e073d150-27f2-40bc-f0d1-e67229361a22"
      },
      "execution_count": 28,
      "outputs": [
        {
          "output_type": "stream",
          "name": "stdout",
          "text": [
            "Drive already mounted at /content/gdrive; to attempt to forcibly remount, call drive.mount(\"/content/gdrive\", force_remount=True).\n"
          ]
        }
      ]
    },
    {
      "cell_type": "code",
      "source": [
        "cd /content/gdrive/MyDrive"
      ],
      "metadata": {
        "colab": {
          "base_uri": "https://localhost:8080/"
        },
        "id": "jJU9Ct-do0Cj",
        "outputId": "84d9f229-9312-4d93-918f-cd392098e6b2"
      },
      "execution_count": 29,
      "outputs": [
        {
          "output_type": "stream",
          "name": "stdout",
          "text": [
            "/content/gdrive/MyDrive\n"
          ]
        }
      ]
    },
    {
      "cell_type": "code",
      "source": [
        "import os\n",
        "import shutil\n",
        "\n",
        "# Define the path to the original dataset\n",
        "data_path = '/content/gdrive/MyDrive/AICapstoneProjectData/CT-KIDNEY-DATASET-Normal-Cyst-Tumor-Stone/CT-KIDNEY-DATASET-Normal-Cyst-Tumor-Stone'\n",
        "# Define the path to the output directory\n",
        "output_path = './dataset'\n",
        "\n",
        "# Define the ratios for train/val/test splits\n",
        "train_ratio = 0.8\n",
        "test_ratio = 0.2\n",
        "\n",
        "# Create the output directories if they do not exist\n",
        "if not os.path.exists(output_path):\n",
        "    os.makedirs(output_path)\n",
        "for dir_name in ['train', 'test']:\n",
        "    dir_path = os.path.join(output_path, dir_name)\n",
        "    if not os.path.exists(dir_path):\n",
        "        os.makedirs(dir_path)\n",
        "    for class_name in ['Cyst','Normal','Stone','Tumor']:\n",
        "        class_path = os.path.join(dir_path, class_name)\n",
        "        if not os.path.exists(class_path):\n",
        "            os.makedirs(class_path)\n",
        "\n",
        "# Loop over each class and copy files to train/val/test directories\n",
        "for class_name in ['Cyst', 'Normal', 'Stone', 'Tumor']:\n",
        "    class_path = os.path.join(data_path, class_name)\n",
        "    files = os.listdir(class_path)\n",
        "    num_files = len(files)\n",
        "    num_train = int(num_files * train_ratio)\n",
        "    num_test = num_files - num_train\n",
        "    for i, file_name in enumerate(files):\n",
        "        src_path = os.path.join(class_path, file_name)\n",
        "        if i < num_train:\n",
        "            dst_path = os.path.join(output_path, 'train', class_name, file_name)\n",
        "        else:\n",
        "            dst_path = os.path.join(output_path, 'test', class_name, file_name)\n",
        "        shutil.copy(src_path, dst_path)"
      ],
      "metadata": {
        "id": "RVc83sBbo5OI"
      },
      "execution_count": null,
      "outputs": []
    },
    {
      "cell_type": "code",
      "source": [
        "import numpy as np\n",
        "from sklearn.linear_model import LogisticRegression\n",
        "from tensorflow.keras.preprocessing.image import ImageDataGenerator\n",
        "from tensorflow.keras.applications.efficientnet import preprocess_input\n",
        "\n",
        "# Set up the image data generators\n",
        "train_path = './dataset/train'\n",
        "test_path = './dataset/test'\n",
        "img_size = (224,224)\n",
        "batch_size = 10\n",
        "test_batch_size = 10\n",
        "test_steps = 1\n",
        "\n",
        "train_datagen = ImageDataGenerator(\n",
        "    rescale=1./255,\n",
        "    rotation_range=20,\n",
        "    zoom_range=0.2,\n",
        "    shear_range=0.2,\n",
        "    horizontal_flip=True,\n",
        "    brightness_range=[0.8,1.2],\n",
        "    preprocessing_function=preprocess_input,\n",
        ")\n",
        "test_datagen = ImageDataGenerator(\n",
        "    preprocessing_function=preprocess_input\n",
        ")\n",
        "\n",
        "train_generator = train_datagen.flow_from_directory(\n",
        "    directory=train_path,\n",
        "    target_size=(224, 224),\n",
        "    class_mode='categorical',\n",
        "    shuffle=True,\n",
        "    batch_size=batch_size\n",
        ")\n",
        "test_generator = test_datagen.flow_from_directory(\n",
        "    directory=test_path,\n",
        "    target_size=(224, 224),\n",
        "    class_mode='categorical',\n",
        "    shuffle=False,\n",
        "    batch_size=test_batch_size\n",
        ")\n"
      ],
      "metadata": {
        "colab": {
          "base_uri": "https://localhost:8080/"
        },
        "id": "oNe_WOPEtz0N",
        "outputId": "a9b8688c-5b76-4441-9352-84aeea33f87a"
      },
      "execution_count": 32,
      "outputs": [
        {
          "output_type": "stream",
          "name": "stdout",
          "text": [
            "Found 9955 images belonging to 4 classes.\n",
            "Found 2492 images belonging to 4 classes.\n"
          ]
        }
      ]
    },
    {
      "cell_type": "code",
      "source": [
        "import numpy as np\n",
        "from sklearn.ensemble import RandomForestClassifier\n",
        "from sklearn.metrics import confusion_matrix\n",
        " \n",
        "# Load the preprocessed image data and labels into numpy arrays\n",
        "train_data = train_generator.next()[0]\n",
        "train_labels = train_generator.next()[1]\n",
        "test_data = test_generator.next()[0]\n",
        "test_labels = test_generator.next()[1]\n",
        "\n",
        "# Reshape the numpy arrays to flatten the images\n",
        "train_data = train_data.reshape(train_data.shape[0], -1)\n",
        "test_data = test_data.reshape(test_data.shape[0], -1)\n",
        "\n",
        "# Instantiate the random forest classifier with the desired number of trees and maximum depth\n",
        "num_trees = 100\n",
        "max_depth = 5\n",
        "random_forest = RandomForestClassifier(n_estimators=num_trees, max_depth=max_depth)\n",
        "\n",
        "# Fit the random forest classifier to the training data\n",
        "random_forest.fit(train_data, np.argmax(train_labels, axis=1))\n",
        "\n",
        "# Use the random forest classifier to predict the labels of the training and test data\n",
        "train_predictions = random_forest.predict(train_data)\n",
        "test_predictions = random_forest.predict(test_data)\n",
        "\n",
        "# Calculate the accuracy of the random forest classifier on the training and test data\n",
        "train_accuracy = np.mean(train_predictions == np.argmax(train_labels, axis=1))\n",
        "test_accuracy = np.mean(test_predictions == np.argmax(test_labels, axis=1))\n",
        "\n",
        "print(\"Training accuracy: {:.2f}%\".format(train_accuracy*100))\n",
        "print(\"Testing accuracy: {:.2f}%\".format(test_accuracy*100))"
      ],
      "metadata": {
        "colab": {
          "base_uri": "https://localhost:8080/"
        },
        "id": "MK2z3FMewmpa",
        "outputId": "b27cd3a2-cd90-4ade-84cb-36edb372d242"
      },
      "execution_count": 38,
      "outputs": [
        {
          "output_type": "stream",
          "name": "stdout",
          "text": [
            "Training accuracy: 100.00%\n",
            "Testing accuracy: 40.00%\n"
          ]
        }
      ]
    },
    {
      "cell_type": "code",
      "source": [
        "# Create the confusion matrix for the test data\n",
        "conf_matrix = confusion_matrix(np.argmax(test_labels, axis=1), test_predictions)\n",
        "\n",
        "# Print the confusion matrix for the test data\n",
        "print(\"Confusion matrix for test data:\")\n",
        "print(conf_matrix)"
      ],
      "metadata": {
        "colab": {
          "base_uri": "https://localhost:8080/"
        },
        "id": "fTNMoeXpvu3A",
        "outputId": "f389a5eb-a2e5-4a1c-b984-7cfbd5bf13c6"
      },
      "execution_count": 39,
      "outputs": [
        {
          "output_type": "stream",
          "name": "stdout",
          "text": [
            "Confusion matrix for test data:\n",
            "[[4 6]\n",
            " [0 0]]\n"
          ]
        }
      ]
    },
    {
      "cell_type": "code",
      "source": [
        "from sklearn.metrics import accuracy_score,confusion_matrix,classification_report\n",
        "cr = classification_report(np.argmax(test_labels,axis=1),test_predictions)\n",
        "print(\"Classification report:\")\n",
        "print(cr)"
      ],
      "metadata": {
        "colab": {
          "base_uri": "https://localhost:8080/"
        },
        "id": "_kHfpADvu54V",
        "outputId": "284a8def-c3ec-408a-a38f-6063261c33de"
      },
      "execution_count": 41,
      "outputs": [
        {
          "output_type": "stream",
          "name": "stdout",
          "text": [
            "Classification report:\n",
            "              precision    recall  f1-score   support\n",
            "\n",
            "           0       1.00      0.40      0.57        10\n",
            "           1       0.00      0.00      0.00         0\n",
            "\n",
            "    accuracy                           0.40        10\n",
            "   macro avg       0.50      0.20      0.29        10\n",
            "weighted avg       1.00      0.40      0.57        10\n",
            "\n"
          ]
        },
        {
          "output_type": "stream",
          "name": "stderr",
          "text": [
            "/usr/local/lib/python3.9/dist-packages/sklearn/metrics/_classification.py:1344: UndefinedMetricWarning: Recall and F-score are ill-defined and being set to 0.0 in labels with no true samples. Use `zero_division` parameter to control this behavior.\n",
            "  _warn_prf(average, modifier, msg_start, len(result))\n",
            "/usr/local/lib/python3.9/dist-packages/sklearn/metrics/_classification.py:1344: UndefinedMetricWarning: Recall and F-score are ill-defined and being set to 0.0 in labels with no true samples. Use `zero_division` parameter to control this behavior.\n",
            "  _warn_prf(average, modifier, msg_start, len(result))\n",
            "/usr/local/lib/python3.9/dist-packages/sklearn/metrics/_classification.py:1344: UndefinedMetricWarning: Recall and F-score are ill-defined and being set to 0.0 in labels with no true samples. Use `zero_division` parameter to control this behavior.\n",
            "  _warn_prf(average, modifier, msg_start, len(result))\n"
          ]
        }
      ]
    }
  ]
}